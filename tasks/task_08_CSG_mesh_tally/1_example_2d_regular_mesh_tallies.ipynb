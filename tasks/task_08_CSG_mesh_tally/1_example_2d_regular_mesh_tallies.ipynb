{
 "cells": [
  {
   "cell_type": "markdown",
   "metadata": {},
   "source": [
    "# Part 1 - 2D mesh tallies\n",
    "\n",
    "So far we have seen that neutron and photon interactions can be tallied on surfaces or cells, but what if we want to tally neutron behaviour throughout a geometry? (rather than the integrated neutron behaviour over a surface or cell).\n",
    "\n",
    "A mesh tally allows a visual inspection of the neutron behaviour spatially throughout the geometry.\n",
    "\n",
    "The geometry is subdivided into many rectangles and the neutron behaviour is recorded (tallied) by the simulation in each of the small rectangles.\n",
    "\n",
    "This can form a 2D slice of the neutron interactions throughout the model.\n",
    "\n",
    "This notebook allows users to create a simple geometry from a few different materials and plot the results of a 2D regular mesh tally applied to the geometry."
   ]
  },
  {
   "cell_type": "code",
   "execution_count": null,
   "metadata": {},
   "outputs": [],
   "source": [
    "from IPython.display import IFrame\n",
    "IFrame(src=\"https://www.youtube.com/embed/KYIsDjip1nQ\", width=560, height=340)"
   ]
  },
  {
   "cell_type": "markdown",
   "metadata": {},
   "source": [
    "First import packages needed and configure the OpenMC nuclear data path"
   ]
  },
  {
   "cell_type": "code",
   "execution_count": null,
   "metadata": {},
   "outputs": [],
   "source": [
    "import matplotlib.pyplot as plt\n",
    "import openmc\n",
    "# Setting the cross section path to the correct location in the docker image.\n",
    "# If you are running this outside the docker image you will have to change this path to your local cross section path.\n",
    "openmc.config['cross_sections'] = '/nuclear_data/cross_sections.xml'"
   ]
  },
  {
   "cell_type": "markdown",
   "metadata": {},
   "source": [
    "This code block defines the model geometry, materials, neutron source and regular mesh tally. Run the cell to see the model geometry.\n",
    "\n",
    "Observe how a 2D mesh is achieved by creating a 3D mesh with a thickness of one mesh cell in one dimension."
   ]
  },
  {
   "cell_type": "code",
   "execution_count": null,
   "metadata": {},
   "outputs": [],
   "source": [
    "# MATERIALS\n",
    "\n",
    "# creates two materials, one is a neutron multiplier (lead) and the other a tritium breeder (lithium)\n",
    "\n",
    "breeder_material = openmc.Material() \n",
    "breeder_material.add_element('Li', 1, percent_type='ao')\n",
    "breeder_material.set_density('g/cm3', 2.0)\n",
    "\n",
    "multiplier_material = openmc.Material() \n",
    "multiplier_material.add_element('Pb', 1, percent_type='ao')\n",
    "multiplier_material.set_density('g/cm3', 11.0)\n",
    "\n",
    "my_materials = openmc.Materials([breeder_material, multiplier_material])\n",
    "\n",
    "\n",
    "\n",
    "# GEOMETRY\n",
    "\n",
    "# surfaces\n",
    "sph1 = openmc.Sphere(r=50)\n",
    "sph2 = openmc.Sphere(r=90, boundary_type='vacuum')\n",
    "plane1 = openmc.XPlane(20)\n",
    "\n",
    "# cells\n",
    "breeder_cell = openmc.Cell(region=+sph1 & -sph2 & -plane1)\n",
    "breeder_cell.fill = breeder_material\n",
    "\n",
    "multiplier_cell = openmc.Cell(region=+sph1 & -sph2 & +plane1)\n",
    "multiplier_cell.fill = multiplier_material\n",
    "\n",
    "inner_vacuum_cell = openmc.Cell(region=-sph1)\n",
    "\n",
    "my_geometry = openmc.Geometry([inner_vacuum_cell, breeder_cell, multiplier_cell])\n",
    "\n",
    "\n",
    "# SETTINGS\n",
    "\n",
    "# Instantiate a Settings object\n",
    "my_settings = openmc.Settings()\n",
    "my_settings.batches = 100\n",
    "my_settings.inactive = 0\n",
    "my_settings.particles = 50\n",
    "my_settings.particle = \"neutron\"\n",
    "my_settings.run_mode = 'fixed source'\n",
    "\n",
    "# creates a 14MeV point source\n",
    "my_source = openmc.IndependentSource()\n",
    "my_source.space = openmc.stats.Point((0, 0, 0))\n",
    "my_source.angle = openmc.stats.Isotropic()\n",
    "my_source.energy = openmc.stats.Discrete([14e6], [1])\n",
    "my_settings.source = my_source\n",
    "\n",
    "\n",
    "# Create mesh which will be used for tally\n",
    "mesh = openmc.RegularMesh().from_domain(\n",
    "    my_geometry, # the corners of the mesh are being set automatically to surround the geometry\n",
    "    dimension=[100, 1, 100] # only 1 cell in the Y dimension\n",
    ")\n",
    "\n",
    "\n",
    "# Create mesh filter for tally\n",
    "mesh_filter = openmc.MeshFilter(mesh)\n",
    "mesh_tally = openmc.Tally(name='tallies_on_mesh')\n",
    "mesh_tally.filters = [mesh_filter]\n",
    "mesh_tally.scores = ['flux', 'absorption', '(n,2n)']  # you can have multiple scores on a single tally, this is more memory efficient that having new tallies each score\n",
    "my_tallies = openmc.Tallies([mesh_tally])\n",
    "\n",
    "# combines the geometry, materials, settings and tallies to create a neutronics model\n",
    "model = openmc.model.Model(my_geometry, my_materials, my_settings, my_tallies)\n"
   ]
  },
  {
   "cell_type": "markdown",
   "metadata": {},
   "source": [
    "The next code block performs the simulation which tallies neutron flux on the mesh, and loads the results for inspection."
   ]
  },
  {
   "cell_type": "code",
   "execution_count": null,
   "metadata": {},
   "outputs": [],
   "source": [
    "# deletes old files\n",
    "!rm summary.h5\n",
    "!rm statepoint.*.h5\n",
    "\n",
    "# runs the simulation\n",
    "output_filename = model.run()\n",
    "\n",
    "# open the results file\n",
    "results = openmc.StatePoint(output_filename)"
   ]
  },
  {
   "cell_type": "markdown",
   "metadata": {},
   "source": [
    "This code block filters the results to show the neutron flux recorded by the mesh tally."
   ]
  },
  {
   "cell_type": "code",
   "execution_count": null,
   "metadata": {},
   "outputs": [],
   "source": [
    "# access the flux tally\n",
    "my_tally = results.get_tally(scores=['flux'])\n",
    "my_slice = my_tally.get_slice(scores=['flux'])\n",
    "my_slice.mean.shape = (mesh.dimension[0], mesh.dimension[2]) # setting the resolution to the mesh dimensions\n",
    "\n",
    "fig = plt.subplot()\n",
    "\n",
    "# when plotting the 2d data, added the extent is required.\n",
    "# otherwise the plot uses the index of the 2d data arrays\n",
    "# as the x y axis\n",
    "plt.show(fig.imshow(my_slice.mean, extent=mesh.bounding_box.extent['xz']))\n",
    "\n",
    "# notice that neutrons are produced and emitted isotropically from a point source.\n",
    "# There is a slight increase in flux within the neutron multiplier."
   ]
  },
  {
   "cell_type": "markdown",
   "metadata": {},
   "source": [
    "This code block filters the results to show the neutron absorption recorded by the mesh tally."
   ]
  },
  {
   "cell_type": "code",
   "execution_count": null,
   "metadata": {},
   "outputs": [],
   "source": [
    "# access the absorption tally\n",
    "my_tally = results.get_tally(scores=['absorption'])\n",
    "my_slice = my_tally.get_slice(scores=['absorption'])\n",
    "my_slice.mean.shape = (mesh.dimension[0], mesh.dimension[2])\n",
    "\n",
    "fig = plt.subplot()\n",
    "\n",
    "# when plotting the 2d data, added the extent is required.\n",
    "# otherwise the plot uses the index of the 2d data arrays\n",
    "# as the x y axis\n",
    "plt.show(fig.imshow(my_slice.mean, extent=mesh.bounding_box.extent['xz']))\n",
    "\n",
    "# notice that neutrons are being absorpted on the left hand side of the model"
   ]
  },
  {
   "cell_type": "markdown",
   "metadata": {},
   "source": [
    "This code block filters the results to show the neutron multiplication recorded by the mesh tally."
   ]
  },
  {
   "cell_type": "code",
   "execution_count": null,
   "metadata": {},
   "outputs": [],
   "source": [
    "# access the neutron multiplication tally\n",
    "my_tally = results.get_tally(scores=['(n,2n)'])\n",
    "my_slice = my_tally.get_slice(scores=['(n,2n)'])\n",
    "my_slice.mean.shape = (mesh.dimension[0], mesh.dimension[2])\n",
    "\n",
    "fig = plt.subplot()\n",
    "\n",
    "# when plotting the 2d data, added the extent is required.\n",
    "# otherwise the plot uses the index of the 2d data arrays\n",
    "# as the x y axis\n",
    "plt.show(fig.imshow(my_slice.mean, extent=mesh.bounding_box.extent['xz']))\n",
    "\n",
    "# notice that neutrons are being muliplied on the right hand side of the model"
   ]
  },
  {
   "cell_type": "code",
   "execution_count": null,
   "metadata": {},
   "outputs": [],
   "source": [
    "# Bonus information\n",
    "# The 2D mesh tally is currently recording all interactions in the 3rd dimention (z).\n",
    "# The diagrams are showing the xy plane and all interactions in the z direction.\n",
    "# However one can also change the mesh to take a central slice of with a 1cm thickness in the following way.\n",
    "# The tally takes a little longer to converge as less neutrons are interacting in the tally region.\n",
    "\n",
    "# Create mesh which will be used for tally, manually setting the left and right corners\n",
    "mesh = openmc.RegularMesh()\n",
    "mesh.dimension = [100, 1, 100] # only one entry in the Y direction\n",
    "mesh.lower_left = [-200, -0.5, -200] # Y thickness is now smaller\n",
    "mesh.upper_right = [200, 0.5, 200] # Y thickness is now smaller"
   ]
  },
  {
   "cell_type": "markdown",
   "metadata": {},
   "source": [
    "**Learning Outcomes for Part 1:**\n",
    "\n",
    "- Mesh tallies can be used to visualise neutron interactions spatially throughout geometry."
   ]
  }
 ],
 "metadata": {
  "interpreter": {
   "hash": "388a69045c46a6cab693fa82e98fd7f2d33e04d9f9ebcb2c17dde5f00932fece"
  },
  "kernelspec": {
   "display_name": "Python 3 (ipykernel)",
   "language": "python",
   "name": "python3"
  },
  "language_info": {
   "codemirror_mode": {
    "name": "ipython",
    "version": 3
   },
   "file_extension": ".py",
   "mimetype": "text/x-python",
   "name": "python",
   "nbconvert_exporter": "python",
   "pygments_lexer": "ipython3",
   "version": "3.10.12"
  }
 },
 "nbformat": 4,
 "nbformat_minor": 4
}
