{
 "cells": [
  {
   "cell_type": "markdown",
   "metadata": {},
   "source": [
    "# Part 3 - Cylinder mesh tallies\n",
    "\n",
    "In addition to regular meshes seen in part 1 and 2 meshes can also be defined in a variety of shapes include cylinder and sphere\n",
    "\n",
    "This notebook allows users to create a highly simplified geometry based on the first light fusion reactor design (more details here https://www.youtube.com/watch?v=aW4eufacf-8) and tally tritium production on a cylindrical mesh."
   ]
  },
  {
   "cell_type": "markdown",
   "metadata": {},
   "source": [
    "This first code block defines the model geometry and materials."
   ]
  },
  {
   "cell_type": "markdown",
   "metadata": {},
   "source": [
    "First import OpenMC and configure the nuclear data path"
   ]
  },
  {
   "cell_type": "code",
   "execution_count": null,
   "metadata": {},
   "outputs": [],
   "source": [
    "import openmc\n",
    "# Setting the cross section path to the correct location in the docker image.\n",
    "# If you are running this outside the docker image you will have to change this path to your local cross section path.\n",
    "openmc.config['cross_sections'] = '/nuclear_data/cross_sections.xml'"
   ]
  },
  {
   "cell_type": "code",
   "execution_count": null,
   "metadata": {
    "scrolled": true
   },
   "outputs": [],
   "source": [
    "import openmc\n",
    "\n",
    "inner_blanket_radius = 100.\n",
    "blanket_thickness = 70.\n",
    "blanket_height = 500.\n",
    "lower_blanket_thickness = 50.\n",
    "upper_blanket_thickness = 40.\n",
    "blanket_vv_gap = 20.\n",
    "upper_vv_thickness = 10.\n",
    "vv_thickness = 10.\n",
    "lower_vv_thickness = 10.\n",
    "\n",
    "\n",
    "mat_vessel_cell_lower = openmc.Material()\n",
    "mat_vessel_cell_upper = openmc.Material()\n",
    "mat_vessel_cell_cylinder = openmc.Material()\n",
    "mat_blanket_cell_cylinder = openmc.Material()\n",
    "mat_blanket_cell_upper = openmc.Material()\n",
    "mat_blanket_cell_lower = openmc.Material()\n",
    "\n",
    "for mat in [mat_vessel_cell_lower, mat_vessel_cell_upper, mat_vessel_cell_cylinder]:\n",
    "    mat.add_element(\"Fe\", 89)\n",
    "    mat.add_element(\"Cr\", 9.1)\n",
    "    mat.add_element(\"Mo\", 1)\n",
    "    mat.add_element(\"Mn\", 0.5)\n",
    "    mat.add_element(\"Si\", 0.4)\n",
    "    mat.set_density(\"g/cm3\", 7.96)\n",
    "\n",
    "for mat in [mat_blanket_cell_cylinder, mat_blanket_cell_upper, mat_blanket_cell_lower]:\n",
    "    mat.add_element(\"Li\", 100)\n",
    "    mat.set_density(\"g/cm3\", 0.5)\n",
    "\n",
    "my_materials = openmc.Materials(\n",
    "    [\n",
    "        mat_vessel_cell_lower,\n",
    "        mat_vessel_cell_upper,\n",
    "        mat_vessel_cell_cylinder,\n",
    "        mat_blanket_cell_cylinder,\n",
    "        mat_blanket_cell_upper,\n",
    "        mat_blanket_cell_lower,\n",
    "    ]\n",
    ")\n",
    "\n",
    "# surfaces\n",
    "inner_blanket_cylinder = openmc.ZCylinder(r=inner_blanket_radius)\n",
    "outer_blanket_cylinder = openmc.ZCylinder(r=inner_blanket_radius + blanket_thickness)\n",
    "\n",
    "inner_vessel_cylinder = openmc.ZCylinder(\n",
    "    r=inner_blanket_radius + blanket_thickness + blanket_vv_gap\n",
    ")\n",
    "outer_vessel_cylinder = openmc.ZCylinder(\n",
    "    r=inner_blanket_radius + blanket_thickness + blanket_vv_gap + vv_thickness,\n",
    "    boundary_type=\"vacuum\",\n",
    ")\n",
    "\n",
    "upper_vessel_bottom = openmc.ZPlane(\n",
    "    z0=blanket_height + lower_vv_thickness + lower_blanket_thickness\n",
    ")\n",
    "upper_vessel_top = openmc.ZPlane(\n",
    "    z0=blanket_height\n",
    "    + lower_vv_thickness\n",
    "    + lower_blanket_thickness\n",
    "    + upper_vv_thickness\n",
    ")\n",
    "\n",
    "lower_blanket_top = openmc.ZPlane(z0=lower_vv_thickness + lower_blanket_thickness)\n",
    "lower_blanket_bottom = openmc.ZPlane(z0=lower_vv_thickness)\n",
    "\n",
    "upper_blanket_bottom = upper_vessel_top\n",
    "upper_blanket_top = openmc.ZPlane(\n",
    "    z0=blanket_height\n",
    "    + lower_vv_thickness\n",
    "    + lower_blanket_thickness\n",
    "    + upper_vv_thickness\n",
    "    + upper_blanket_thickness,\n",
    "    boundary_type=\"vacuum\",\n",
    ")\n",
    "\n",
    "lower_vessel_top = lower_blanket_bottom\n",
    "lower_vessel_bottom = openmc.ZPlane(z0=0, boundary_type=\"vacuum\")\n",
    "\n",
    "# regions\n",
    "inner_void_region = -upper_vessel_bottom & +lower_blanket_top & -inner_blanket_cylinder\n",
    "blanket_region = (\n",
    "    -upper_vessel_bottom\n",
    "    & +lower_blanket_top\n",
    "    & +inner_blanket_cylinder\n",
    "    & -outer_blanket_cylinder\n",
    ")\n",
    "\n",
    "blanket_upper_region = (\n",
    "    -inner_vessel_cylinder & -upper_blanket_top & +upper_blanket_bottom\n",
    ")\n",
    "blanket_lower_region = (\n",
    "    -inner_vessel_cylinder & -lower_blanket_top & +lower_blanket_bottom\n",
    ")\n",
    "\n",
    "outer_void_region = (\n",
    "    -upper_vessel_bottom\n",
    "    & +lower_blanket_top\n",
    "    & -inner_vessel_cylinder\n",
    "    & +outer_blanket_cylinder\n",
    ")\n",
    "\n",
    "vessel_region = (\n",
    "    -upper_blanket_top\n",
    "    & +lower_vessel_bottom\n",
    "    & -outer_vessel_cylinder\n",
    "    & +inner_vessel_cylinder\n",
    ")\n",
    "vessel_upper_region = -upper_vessel_top & +upper_vessel_bottom & -inner_vessel_cylinder\n",
    "vessel_lower_region = -lower_vessel_top & +lower_vessel_bottom & -inner_vessel_cylinder\n",
    "\n",
    "# cells\n",
    "vessel_cell_lower = openmc.Cell(region=vessel_lower_region)\n",
    "vessel_cell_upper = openmc.Cell(region=vessel_upper_region)\n",
    "vessel_cell_cylinder = openmc.Cell(region=vessel_region)\n",
    "vessel_cell_lower.fill = mat_vessel_cell_lower\n",
    "vessel_cell_upper.fill = mat_vessel_cell_upper\n",
    "vessel_cell_cylinder.fill = mat_vessel_cell_cylinder\n",
    "\n",
    "blanket_cell_cylinder = openmc.Cell(region=blanket_region)\n",
    "blanket_cell_upper = openmc.Cell(region=blanket_upper_region)\n",
    "blanket_cell_lower = openmc.Cell(region=blanket_lower_region)\n",
    "blanket_cell_cylinder.fill = mat_blanket_cell_cylinder\n",
    "blanket_cell_upper.fill = mat_blanket_cell_upper\n",
    "blanket_cell_lower.fill = mat_blanket_cell_lower\n",
    "\n",
    "void_cell1 = openmc.Cell(region=inner_void_region)\n",
    "void_cell2 = openmc.Cell(region=outer_void_region)\n",
    "\n",
    "my_geometry = openmc.Geometry([\n",
    "        void_cell1,\n",
    "        void_cell2,\n",
    "        vessel_cell_lower,\n",
    "        vessel_cell_upper,\n",
    "        vessel_cell_cylinder,\n",
    "        blanket_cell_cylinder,\n",
    "        blanket_cell_upper,\n",
    "        blanket_cell_lower,\n",
    "    ])\n",
    "\n",
    "my_geometry.plot(basis='xy')\n",
    "my_geometry.plot(basis='xz')"
   ]
  },
  {
   "cell_type": "markdown",
   "metadata": {},
   "source": [
    "This code block defines the neutron plasma source."
   ]
  },
  {
   "cell_type": "code",
   "execution_count": null,
   "metadata": {},
   "outputs": [],
   "source": [
    "max_source_height = blanket_height + lower_vv_thickness + lower_blanket_thickness\n",
    "min_source_height = lower_vv_thickness + lower_blanket_thickness\n",
    "range_of_source_heights = max_source_height - min_source_height\n",
    "# 0.5 is fractional_height_of_source\n",
    "absolute_height_of_source = (0.5 * range_of_source_heights) + min_source_height\n",
    "\n",
    "# initialises a new source object\n",
    "my_source = openmc.IndependentSource()\n",
    "\n",
    "# sets the location of the source to x=0 y=0 z=0\n",
    "my_source.space = openmc.stats.Point((0, 0, absolute_height_of_source))\n",
    "\n",
    "# sets the direction to isotropic\n",
    "my_source.angle = openmc.stats.Isotropic()\n",
    "\n",
    "# sets the energy distribution to 100% 14MeV neutrons\n",
    "my_source.energy = openmc.stats.Discrete([14e6], [1])\n",
    "\n",
    "\n",
    "my_settings = openmc.Settings()\n",
    "my_settings.inactive = 0\n",
    "my_settings.run_mode = \"fixed source\"\n",
    "my_settings.batches = 10\n",
    "my_settings.particles = 10000\n",
    "my_settings.source = my_source"
   ]
  },
  {
   "cell_type": "markdown",
   "metadata": {},
   "source": [
    "This code block creates a 3D regular mesh between two coordinates with a specified resolution in each axis."
   ]
  },
  {
   "cell_type": "code",
   "execution_count": null,
   "metadata": {},
   "outputs": [],
   "source": [
    "# Create mesh which will be used for tally\n",
    "import numpy as np\n",
    "mesh = openmc.CylindricalMesh.from_domain(\n",
    "    domain=my_geometry, # the corners of the mesh are being set automatically to surround the geometry\n",
    "    dimension=[10, 20, 30] # 100 voxels in each axis direction (r, z, phi)\n",
    ")"
   ]
  },
  {
   "cell_type": "markdown",
   "metadata": {},
   "source": [
    "This code block creates two tallies on the mesh to record heating and tritium production."
   ]
  },
  {
   "cell_type": "code",
   "execution_count": null,
   "metadata": {},
   "outputs": [],
   "source": [
    "my_tallies = openmc.Tallies()\n",
    "# Create mesh filter for tally\n",
    "mesh_filter = openmc.MeshFilter(mesh)\n",
    "\n",
    "# Create mesh tally to score tritium production\n",
    "mesh_tally_1 = openmc.Tally(name='tbr_on_mesh')\n",
    "mesh_tally_1.filters = [mesh_filter]\n",
    "mesh_tally_1.scores = ['(n,Xt)']  # where X is a wildcard\n",
    "my_tallies.append(mesh_tally_1)\n",
    "\n",
    "# Create mesh tally to score heating\n",
    "mesh_tally_2 = openmc.Tally(name='heating_on_mesh')\n",
    "mesh_tally_2.filters = [mesh_filter]\n",
    "mesh_tally_2.scores = ['heating']\n",
    "my_tallies.append(mesh_tally_2)"
   ]
  },
  {
   "cell_type": "markdown",
   "metadata": {},
   "source": [
    "This next code block performs the simulation."
   ]
  },
  {
   "cell_type": "code",
   "execution_count": null,
   "metadata": {},
   "outputs": [],
   "source": [
    "# deletes old statepoint and summary files\n",
    "!rm s*.h5\n",
    "\n",
    "# Run OpenMC!\n",
    "model = openmc.model.Model(my_geometry, my_materials, my_settings, my_tallies)\n",
    "sp_filename = model.run()"
   ]
  },
  {
   "cell_type": "markdown",
   "metadata": {},
   "source": [
    "This code block runs a python function which extracts the mesh tally data from the statepoint.h5 file and saves it as a vtk file."
   ]
  },
  {
   "cell_type": "code",
   "execution_count": null,
   "metadata": {},
   "outputs": [],
   "source": [
    "# loads up the output file from the simulation\n",
    "statepoint = openmc.StatePoint(sp_filename)\n",
    "\n",
    "# extracts the mesh tally by name\n",
    "my_tbr_tally = statepoint.get_tally(name='tbr_on_mesh')\n",
    "\n",
    "# converts the tally result into a VTK file\n",
    "mesh.write_data_to_vtk(\n",
    "    filename=\"tbr_tally_on_cy_mesh.vtk\",\n",
    "    datasets={\"mean\": my_tbr_tally.mean}  # the first \"mean\" is the name of the data set label inside the vtk file\n",
    ")\n",
    "\n",
    "# extracts the mesh tally by name\n",
    "my_heating_tally = statepoint.get_tally(name='heating_on_mesh')\n",
    "\n",
    "# converts the tally result into a VTK file\n",
    "# this time standard deviation error on the tally is added to the vtk file as another data set\n",
    "# the tally is also scaled from eV per source particle to Joules per source particle 1eV = 1.60218e-19J)\n",
    "# Try adding another scaling term to multiplying by the number of neutrons emitted per second would which would convert the units to Watts\n",
    "mesh.write_data_to_vtk(\n",
    "    filename=\"heating_tally_on_cy_mesh.vtk\",\n",
    "    datasets={\"mean\": my_heating_tally.mean * 1.60218e-19, \"std_dev\": my_heating_tally.std_dev * 1.60218e-19}\n",
    ")"
   ]
  },
  {
   "cell_type": "markdown",
   "metadata": {},
   "source": [
    "Click on the newly created vtk file in the file explorer to the left and download the vtk files onto your base computer and open them with a VTK file reader such as Paraview or Visit.\n",
    "\n",
    "Paraview can be downloaded here: https://www.paraview.org/download/.\n",
    "Visit can be downloaded here: https://wci.llnl.gov/simulation/computer-codes/visit/downloads."
   ]
  },
  {
   "cell_type": "markdown",
   "metadata": {},
   "source": [
    "**Learning Outcomes for Part 3:**\n",
    "\n",
    "- Mesh tallies can be different shapes, this can be chosen to match the underlying geometry."
   ]
  },
  {
   "cell_type": "markdown",
   "metadata": {},
   "source": []
  }
 ],
 "metadata": {
  "interpreter": {
   "hash": "4adb29175e4ceb05fc164f7227d42b39c889540ee89ab3b06e340e14fe890a66"
  },
  "kernelspec": {
   "display_name": "Python 3 (ipykernel)",
   "language": "python",
   "name": "python3"
  },
  "language_info": {
   "codemirror_mode": {
    "name": "ipython",
    "version": 3
   },
   "file_extension": ".py",
   "mimetype": "text/x-python",
   "name": "python",
   "nbconvert_exporter": "python",
   "pygments_lexer": "ipython3",
   "version": "3.10.12"
  },
  "vscode": {
   "interpreter": {
    "hash": "d4d1e4263499bec80672ea0156c357c1ee493ec2b1c70f0acce89fc37c4a6abe"
   }
  }
 },
 "nbformat": 4,
 "nbformat_minor": 4
}
