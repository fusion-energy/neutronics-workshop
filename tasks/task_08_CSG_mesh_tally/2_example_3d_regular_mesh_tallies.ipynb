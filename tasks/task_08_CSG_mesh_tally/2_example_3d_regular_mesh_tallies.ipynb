{
 "cells": [
  {
   "attachments": {},
   "cell_type": "markdown",
   "metadata": {},
   "source": [
    "# Part 2 - 3D mesh tallies\n",
    "\n",
    "Mesh tallies can also be used to visualise neutron interactions spatially throughout a geometry in 3D.\n",
    "\n",
    "This notebook allows users to create a simple geometry from a few different materials and plot the results of a 3D regular mesh tally applied to the geometry."
   ]
  },
  {
   "attachments": {},
   "cell_type": "markdown",
   "metadata": {},
   "source": [
    "This first code block defines the model geometry, materials and neutron source."
   ]
  },
  {
   "cell_type": "markdown",
   "metadata": {},
   "source": [
    "First import OpenMC and configure the nuclear data path"
   ]
  },
  {
   "cell_type": "code",
   "execution_count": null,
   "metadata": {},
   "outputs": [],
   "source": [
    "import openmc\n",
    "# Setting the cross section path to the correct location in the docker image.\n",
    "# If you are running this outside the docker image you will have to change this path to your local cross section path.\n",
    "openmc.config['cross_sections'] = '/nuclear_data/cross_sections.xml'"
   ]
  },
  {
   "cell_type": "code",
   "execution_count": 1,
   "metadata": {
    "scrolled": true
   },
   "outputs": [],
   "source": [
    "# MATERIALS\n",
    "\n",
    "breeder_material = openmc.Material()   # Pb84.2Li15.8\n",
    "breeder_material.add_element('Pb', 84.2, percent_type='ao')\n",
    "breeder_material.add_element('Li', 15.8, percent_type='ao', enrichment=7.0, enrichment_target='Li6', enrichment_type='ao')   # natural enrichment = 7% Li6\n",
    "breeder_material.set_density('atom/b-cm', 3.2720171e-2)   # around 11 g/cm3\n",
    "\n",
    "copper_material = openmc.Material()\n",
    "copper_material.set_density('g/cm3', 8.5)\n",
    "copper_material.add_element('Cu', 1.0)\n",
    "\n",
    "eurofer_material = openmc.Material()\n",
    "eurofer_material.set_density('g/cm3', 7.75)\n",
    "eurofer_material.add_element('Fe', 89.067, percent_type='wo')\n",
    "\n",
    "mats = openmc.Materials([breeder_material, eurofer_material, copper_material])\n",
    "\n",
    "\n",
    "# GEOMETRY\n",
    "\n",
    "# surfaces\n",
    "central_sol_surface = openmc.ZCylinder(r=100)\n",
    "central_shield_outer_surface = openmc.ZCylinder(r=110)\n",
    "vessel_inner_surface = openmc.Sphere(r=500)\n",
    "first_wall_outer_surface = openmc.Sphere(r=510)\n",
    "breeder_blanket_outer_surface = openmc.Sphere(r=610, boundary_type='vacuum')\n",
    "\n",
    "# cells\n",
    "central_sol_region = -central_sol_surface & -breeder_blanket_outer_surface\n",
    "central_sol_cell = openmc.Cell(region=central_sol_region)\n",
    "central_sol_cell.fill = copper_material\n",
    "\n",
    "central_shield_region = +central_sol_surface & -central_shield_outer_surface & -breeder_blanket_outer_surface\n",
    "central_shield_cell = openmc.Cell(region=central_shield_region)\n",
    "central_shield_cell.fill = eurofer_material\n",
    "\n",
    "inner_vessel_region = -vessel_inner_surface & +central_shield_outer_surface\n",
    "inner_vessel_cell = openmc.Cell(region=inner_vessel_region)\n",
    "# no material set as default is vacuum\n",
    "\n",
    "first_wall_region = -first_wall_outer_surface & +vessel_inner_surface\n",
    "first_wall_cell = openmc.Cell(region=first_wall_region)\n",
    "first_wall_cell.fill = eurofer_material\n",
    "\n",
    "breeder_blanket_region = +first_wall_outer_surface & -breeder_blanket_outer_surface & +central_shield_outer_surface\n",
    "breeder_blanket_cell = openmc.Cell(region=breeder_blanket_region)\n",
    "breeder_blanket_cell.fill = breeder_material\n",
    "\n",
    "my_geometry = openmc.Geometry([central_sol_cell, central_shield_cell, inner_vessel_cell, first_wall_cell, breeder_blanket_cell])\n",
    "\n",
    "\n",
    "# SIMULATION SETTINGS\n",
    "\n",
    "# Instantiate a Settings object\n",
    "sett = openmc.Settings()\n",
    "batches = 2\n",
    "sett.batches = batches\n",
    "sett.inactive = 0\n",
    "sett.particles = 5000\n",
    "sett.run_mode = 'fixed source'\n",
    "\n",
    "# Create a DT point source\n",
    "source = openmc.IndependentSource()\n",
    "source.angle = openmc.stats.Isotropic()\n",
    "source.energy = openmc.stats.Discrete([14e6], [1])\n",
    "source.space = openmc.stats.Point((150, 150, 0))\n",
    "\n",
    "sett.source = source"
   ]
  },
  {
   "attachments": {},
   "cell_type": "markdown",
   "metadata": {},
   "source": [
    "This code block creates a 3D regular mesh between two coordinates with a specified resolution in each axis."
   ]
  },
  {
   "cell_type": "code",
   "execution_count": 2,
   "metadata": {},
   "outputs": [],
   "source": [
    "# Create mesh which will be used for tally\n",
    "mesh = openmc.RegularMesh().from_domain(\n",
    "    my_geometry, # the corners of the mesh are being set automatically to surround the geometry\n",
    "    dimension=[10, 20, 30] # 100 voxels in each axis direction (r, z, phi)\n",
    ")"
   ]
  },
  {
   "attachments": {},
   "cell_type": "markdown",
   "metadata": {},
   "source": [
    "This code block creates two tallies on the mesh to record heating and tritium production."
   ]
  },
  {
   "cell_type": "code",
   "execution_count": 3,
   "metadata": {},
   "outputs": [],
   "source": [
    "tallies = openmc.Tallies()\n",
    "# Create mesh filter for tally\n",
    "mesh_filter = openmc.MeshFilter(mesh)\n",
    "\n",
    "# Create flux mesh tally to score flux\n",
    "mesh_tally_1 = openmc.Tally(name='tbr_on_mesh')\n",
    "mesh_tally_1.filters = [mesh_filter]\n",
    "mesh_tally_1.scores = ['(n,Xt)']  # where X is a wildcard\n",
    "tallies.append(mesh_tally_1)\n",
    "\n",
    "# Create flux mesh tally to score flux\n",
    "mesh_tally_2 = openmc.Tally(name='heating_on_mesh')\n",
    "mesh_tally_2.filters = [mesh_filter]\n",
    "mesh_tally_2.scores = ['heating']\n",
    "tallies.append(mesh_tally_2)"
   ]
  },
  {
   "attachments": {},
   "cell_type": "markdown",
   "metadata": {},
   "source": [
    "This next code block performs the simulation."
   ]
  },
  {
   "cell_type": "code",
   "execution_count": 6,
   "metadata": {},
   "outputs": [
    {
     "name": "stdout",
     "output_type": "stream",
     "text": [
      "rm: cannot remove 's*.h5': No such file or directory\n",
      "                                %%%%%%%%%%%%%%%\n",
      "                           %%%%%%%%%%%%%%%%%%%%%%%%\n",
      "                        %%%%%%%%%%%%%%%%%%%%%%%%%%%%%%\n",
      "                      %%%%%%%%%%%%%%%%%%%%%%%%%%%%%%%%%%\n",
      "                    %%%%%%%%%%%%%%%%%%%%%%%%%%%%%%%%%%%%%%\n",
      "                   %%%%%%%%%%%%%%%%%%%%%%%%%%%%%%%%%%%%%%%%\n",
      "                                    %%%%%%%%%%%%%%%%%%%%%%%%\n",
      "                                     %%%%%%%%%%%%%%%%%%%%%%%%\n",
      "                 ###############      %%%%%%%%%%%%%%%%%%%%%%%%\n",
      "                ##################     %%%%%%%%%%%%%%%%%%%%%%%\n",
      "                ###################     %%%%%%%%%%%%%%%%%%%%%%%\n",
      "                ####################     %%%%%%%%%%%%%%%%%%%%%%\n",
      "                #####################     %%%%%%%%%%%%%%%%%%%%%\n",
      "                ######################     %%%%%%%%%%%%%%%%%%%%\n",
      "                #######################     %%%%%%%%%%%%%%%%%%\n",
      "                 #######################     %%%%%%%%%%%%%%%%%\n",
      "                 ######################     %%%%%%%%%%%%%%%%%\n",
      "                  ####################     %%%%%%%%%%%%%%%%%\n",
      "                    #################     %%%%%%%%%%%%%%%%%\n",
      "                     ###############     %%%%%%%%%%%%%%%%\n",
      "                       ############     %%%%%%%%%%%%%%%\n",
      "                          ########     %%%%%%%%%%%%%%\n",
      "                                      %%%%%%%%%%%\n",
      "\n",
      "                 | The OpenMC Monte Carlo Code\n",
      "       Copyright | 2011-2024 MIT, UChicago Argonne LLC, and contributors\n",
      "         License | https://docs.openmc.org/en/latest/license.html\n",
      "         Version | 0.15.1-dev\n",
      "        Git SHA1 | 86fc40a6456e789676eec3410afff38e340ea8f8\n",
      "       Date/Time | 2024-08-30 11:57:21\n",
      "  OpenMP Threads | 16\n",
      "\n",
      " Reading model XML file 'model.xml' ...\n",
      " Reading cross sections XML file...\n",
      " Reading Pb204 from /nuclear_data/endfb-viii.0-hdf5/neutron/Pb204.h5\n",
      " Reading Pb206 from /nuclear_data/endfb-viii.0-hdf5/neutron/Pb206.h5\n",
      " Reading Pb207 from /nuclear_data/endfb-viii.0-hdf5/neutron/Pb207.h5\n",
      " Reading Pb208 from /nuclear_data/endfb-viii.0-hdf5/neutron/Pb208.h5\n",
      " Reading Li6 from /nuclear_data/endfb-viii.0-hdf5/neutron/Li6.h5\n",
      " Reading Li7 from /nuclear_data/endfb-viii.0-hdf5/neutron/Li7.h5\n",
      " Reading Cu63 from /nuclear_data/endfb-viii.0-hdf5/neutron/Cu63.h5\n",
      " Reading Cu65 from /nuclear_data/endfb-viii.0-hdf5/neutron/Cu65.h5\n",
      " Reading Fe54 from /nuclear_data/endfb-viii.0-hdf5/neutron/Fe54.h5\n",
      " Reading Fe56 from /nuclear_data/endfb-viii.0-hdf5/neutron/Fe56.h5\n",
      " Reading Fe57 from /nuclear_data/endfb-viii.0-hdf5/neutron/Fe57.h5\n",
      " Reading Fe58 from /nuclear_data/endfb-viii.0-hdf5/neutron/Fe58.h5\n",
      " Minimum neutron data temperature: 294 K\n",
      " Maximum neutron data temperature: 294 K\n",
      " Preparing distributed cell instances...\n",
      " Writing summary.h5 file...\n",
      " Maximum neutron transport energy: 20000000 eV for Li6\n",
      "\n",
      " ===============>     FIXED SOURCE TRANSPORT SIMULATION     <===============\n",
      "\n",
      " Simulating batch 1\n",
      " Simulating batch 2\n",
      " Creating state point statepoint.2.h5...\n",
      "\n",
      " =======================>     TIMING STATISTICS     <=======================\n",
      "\n",
      " Total time for initialization     = 1.1259e+00 seconds\n",
      "   Reading cross sections          = 1.1053e+00 seconds\n",
      " Total time in simulation          = 4.0207e-01 seconds\n",
      "   Time in transport only          = 3.9833e-01 seconds\n",
      "   Time in active batches          = 4.0207e-01 seconds\n",
      "   Time accumulating tallies       = 3.6221e-04 seconds\n",
      "   Time writing statepoints        = 3.2080e-03 seconds\n",
      " Total time for finalization       = 1.3965e-02 seconds\n",
      " Total time elapsed                = 1.5450e+00 seconds\n",
      " Calculation Rate (active)         = 24871.5 particles/second\n",
      "\n",
      " ============================>     RESULTS     <============================\n",
      "\n",
      " Leakage Fraction            = 0.14289 +/- 0.00061\n",
      "\n"
     ]
    }
   ],
   "source": [
    "# deletes old statepoint and summary files\n",
    "!rm s*.h5\n",
    "\n",
    "# Run OpenMC!\n",
    "model = openmc.Model(my_geometry, mats, sett, tallies)\n",
    "openmc.config['cross_sections'] = '/nuclear_data/cross_sections.xml'\n",
    "\n",
    "sp_filename = model.run()"
   ]
  },
  {
   "attachments": {},
   "cell_type": "markdown",
   "metadata": {},
   "source": [
    "This code block runs a python function which extracts the mesh tally data from the statepoint.h5 file and saves it as a vtk file."
   ]
  },
  {
   "cell_type": "code",
   "execution_count": 7,
   "metadata": {},
   "outputs": [
    {
     "data": {
      "text/plain": [
       "<vtkmodules.vtkCommonDataModel.vtkStructuredGrid(0x5a14f1d74570) at 0x73290807fa60>"
      ]
     },
     "execution_count": 7,
     "metadata": {},
     "output_type": "execute_result"
    }
   ],
   "source": [
    "\n",
    "# loads up the output file from the simulation\n",
    "statepoint = openmc.StatePoint(sp_filename)\n",
    "import pyvista as pv\n",
    "mesh = pv.read('my_strange_vtk_file.vtk')\n",
    "# extracts the mesh tally by name\n",
    "my_tbr_tally = statepoint.get_tally(name='tbr_on_mesh')\n",
    "\n",
    "# converts the tally result into a VTK file\n",
    "mesh.write_data_to_vtk(\n",
    "    filename=\"tbr_tally_on_reg_mesh.vtk\",\n",
    "    datasets={\"mean\": my_tbr_tally.mean}  # the first \"mean\" is the name of the data set label inside the vtk file\n",
    ")\n",
    "\n",
    "# extracts the mesh tally by name\n",
    "my_heating_tally = statepoint.get_tally(name='heating_on_mesh')\n",
    "\n",
    "# converts the tally result into a VTK file\n",
    "# this time standard deviation error on the tally is added to the vtk file as another data set\n",
    "# the tally is also scaled from eV per source particle to Joules per source particle 1eV = 1.60218e-19J)\n",
    "# Try adding another scaling term to multiplying by the number of neutrons emitted per second would which would convert the units to Watts\n",
    "mesh.write_data_to_vtk(\n",
    "    filename=\"heating_tally_on_reg_mesh.vtk\",\n",
    "    datasets={\"mean\": my_heating_tally.mean * 1.60218e-19, \"std_dev\": my_heating_tally.std_dev * 1.60218e-19}\n",
    ")"
   ]
  },
  {
   "attachments": {},
   "cell_type": "markdown",
   "metadata": {},
   "source": [
    "Click on the newly created vtk file in the file explorer to the left and download the vtk files onto your base computer and open them with a VTK file reader such as Paraview or Visit.\n",
    "\n",
    "Paraview can be downloaded here: https://www.paraview.org/download/.\n",
    "Visit can be downloaded here: https://wci.llnl.gov/simulation/computer-codes/visit/downloads."
   ]
  },
  {
   "cell_type": "code",
   "execution_count": 90,
   "metadata": {},
   "outputs": [
    {
     "data": {
      "application/vnd.jupyter.widget-view+json": {
       "model_id": "6de27a09e3594a6bbb7cb8846e9781ae",
       "version_major": 2,
       "version_minor": 0
      },
      "text/plain": [
       "Widget(value='<iframe src=\"http://localhost:35203/index.html?ui=P_0x73263d9a6b60_52&reconnect=auto\" class=\"pyv…"
      ]
     },
     "metadata": {},
     "output_type": "display_data"
    }
   ],
   "source": [
    "import pyvista as pv\n",
    "mesh = pv.read('heating_tally_on_reg_mesh.vtk')\n",
    "# mesh.plot()\n",
    "mesh.set_active_scalars(name='mean')\n",
    "\n",
    "clipped = mesh.clip(normal='y')\n",
    "clipped_and_thresholded = clipped.threshold_percent(0.01)\n",
    "clipped_and_thresholded.plot(volume=True)"
   ]
  },
  {
   "attachments": {},
   "cell_type": "markdown",
   "metadata": {},
   "source": [
    "**Learning Outcomes for Part 2:**\n",
    "\n",
    "- Mesh tallies can be used in neutronics simulations to measure a variety of different reactions such as neutron absorption, tritium production and flux.\n",
    "- How neutrons are dissipated around the reactor."
   ]
  }
 ],
 "metadata": {
  "kernelspec": {
   "display_name": "Python 3 (ipykernel)",
   "language": "python",
   "name": "python3"
  },
  "language_info": {
   "codemirror_mode": {
    "name": "ipython",
    "version": 3
   },
   "file_extension": ".py",
   "mimetype": "text/x-python",
   "name": "python",
   "nbconvert_exporter": "python",
   "pygments_lexer": "ipython3",
   "version": "3.10.14"
  },
  "vscode": {
   "interpreter": {
    "hash": "c47dabf1cc2568b64caa04441372f68f02228a3c450a6b1274acdfdc3a93f19e"
   }
  }
 },
 "nbformat": 4,
 "nbformat_minor": 4
}
