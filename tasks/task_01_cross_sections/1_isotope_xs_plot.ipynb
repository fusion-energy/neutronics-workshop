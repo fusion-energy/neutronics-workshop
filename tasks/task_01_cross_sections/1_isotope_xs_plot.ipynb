{
 "cells": [
  {
   "cell_type": "markdown",
   "metadata": {},
   "source": [
    "# Part 1 - Plotting isotope cross sections\n",
    "\n",
    "Knowing the interaction probabilities of isotopes and materials in your model can help you understand simulation results. There are several online tools for plotting nuclear cross sections such as [www.xsplot.com](http://xsplot.com), however, OpenMC can also plot cross sections.\n",
    "\n",
    "This python notebook allows users to plot neutron interaction cross sections for specific isotopes using OpenMC.\n",
    "\n",
    "In this first part of the task we are plotting the <b>microscopic</b> cross-section \"<b>σ</b>\".\n",
    "\n",
    "Microscopic cross section is the effective target area in $\\mathrm{m}^2$ presented by a single nucleus to an incident neutron beam.\n",
    "\n",
    "This is used to characterize the probability of reaction between a neutron and an individual nucleus.\n",
    "\n",
    "Microscopic is often stated in units of barns where 1 barn is equal to $10^{−28}$ $\\mathrm{m}^2$ "
   ]
  },
  {
   "cell_type": "code",
   "execution_count": null,
   "metadata": {},
   "outputs": [],
   "source": [
    "from IPython.display import IFrame\n",
    "IFrame(src=\"https://www.youtube.com/embed/eBZ2lY_2v7IA\", width=560, height=340)"
   ]
  },
  {
   "cell_type": "markdown",
   "metadata": {},
   "source": [
    "First import OpenMC and configure the nuclear data path"
   ]
  },
  {
   "cell_type": "code",
   "execution_count": null,
   "metadata": {},
   "outputs": [],
   "source": [
    "import openmc\n",
    "\n",
    "# Setting the cross section path to the correct location in the docker image.\n",
    "# If you are running this outside the docker image you will have to change this path to your local cross section path.\n",
    "openmc.config['cross_sections'] = '/nuclear_data/cross_sections.xml'"
   ]
  },
  {
   "cell_type": "markdown",
   "metadata": {},
   "source": [
    "There is no abundant natural source of tritium on Earth so DT fusion reactors will probably need to be self sufficient in tritium production.\n",
    "\n",
    "Tritium is required as part of the fuel mix for deuterium (D)tritium (T) fusion reactors.\n",
    "\n",
    "Tritium production is therefore one of the most important cross section in fusion.\n",
    "\n",
    "To product sufficient tritium we need a high tritium production cross section.\n",
    "\n",
    "Neutrons from DT fusion are created with around 14.1MeV of energy, which lithium isotope offers the highest probability of tritium production at that energy?"
   ]
  },
  {
   "cell_type": "code",
   "execution_count": null,
   "metadata": {},
   "outputs": [],
   "source": [
    "import matplotlib.pyplot as plt\n",
    "\n",
    "fig = openmc.plotter.plot_xs(\n",
    "    reactions = {\n",
    "        'Li6': ['(n,Xt)'],\n",
    "        'Li7': ['(n,Xt)'],\n",
    "    }\n",
    ")\n",
    "plt.show()\n",
    "\n",
    "# Note the axis are log scale"
   ]
  },
  {
   "cell_type": "markdown",
   "metadata": {},
   "source": [
    "Neutron multiplication is also an important reaction in fusion.\n",
    "\n",
    "Neutron multiplying reactions increase the number of neutrons available for tritium producing reactions.\n",
    "\n",
    "This next code block plots the neutron multiplication (n,2n) cross section of the Be and Pb isotopes.\n",
    "\n",
    "Neutron multiplication is a threshold reaction meaning it only occurs at neutron energies above a certain threshold. You should notice that the threshold energies for Be9 and Pb204 are different.\n",
    "\n",
    "Which isotope offers the lowest threshold and which isotopes offers the highest probability."
   ]
  },
  {
   "cell_type": "code",
   "execution_count": null,
   "metadata": {},
   "outputs": [],
   "source": [
    "# PB (lead) and Be (beryllium) are two candidate neutron multipliers with all their isotopes\n",
    "\n",
    "# The (n,2n) reaction means one incident neutron and two neutrons produced\n",
    "\n",
    "# we pass in a blank axis as we want to modify it afterwards\n",
    "fig, ax = plt.subplots()\n",
    "\n",
    "fig = openmc.plotter.plot_xs(\n",
    "    axis=ax,\n",
    "    reactions = {\n",
    "        'Be9': ['(n,2n)'],\n",
    "        'Pb204': ['(n,2n)'],\n",
    "        'Pb206': ['(n,2n)'],\n",
    "        'Pb207': ['(n,2n)'],\n",
    "        'Pb208': ['(n,2n)'],\n",
    "    }\n",
    ")\n",
    "\n",
    "# modify the axis afterwards to make the data clearer\n",
    "ax.set_xscale('linear')\n",
    "ax.set_yscale('linear')\n",
    "ax.set_xlim(0, 15e6)  # set the x axis limits from 0 to 15MeV\n",
    "\n",
    "plt.show()"
   ]
  },
  {
   "cell_type": "markdown",
   "metadata": {},
   "source": []
  },
  {
   "cell_type": "markdown",
   "metadata": {},
   "source": [
    "However, as well as neutron multiplication cross section, other neutronics factors to consider when selecting a multiplier could include:\n",
    "- moderation power (how much they slow down the neutrons)\n",
    "- amount of non useful reactions that don't multiply the neutrons (parasitic reactions)\n",
    "- the transmutation products"
   ]
  },
  {
   "cell_type": "markdown",
   "metadata": {},
   "source": [
    "**Learning Outcomes for Part 1:**\n",
    "- OpenMC can be used to plot interaction cross sections for specific isotopes.\n",
    "- Reaction probabilities vary for each isotope depending on the energy of the neutron.\n",
    "- Li7 and Li6 both offer tritium producing reactions for different energy neutrons.\n",
    "- Be and Pb perform well in terms of neutron multiplication. Be9 has the lowest threshold energy for neutron multiplication reactions."
   ]
  }
 ],
 "metadata": {
  "interpreter": {
   "hash": "388a69045c46a6cab693fa82e98fd7f2d33e04d9f9ebcb2c17dde5f00932fece"
  },
  "kernelspec": {
   "display_name": "Python 3 (ipykernel)",
   "language": "python",
   "name": "python3"
  },
  "language_info": {
   "codemirror_mode": {
    "name": "ipython",
    "version": 3
   },
   "file_extension": ".py",
   "mimetype": "text/x-python",
   "name": "python",
   "nbconvert_exporter": "python",
   "pygments_lexer": "ipython3",
   "version": "3.10.12"
  }
 },
 "nbformat": 4,
 "nbformat_minor": 4
}
