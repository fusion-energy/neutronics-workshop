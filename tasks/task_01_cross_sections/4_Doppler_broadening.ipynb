{
 "cells": [
  {
   "attachments": {},
   "cell_type": "markdown",
   "metadata": {},
   "source": [
    "# Part 4 - Plotting Doppler broadened cross sections\n",
    "\n",
    "Interaction cross sections are affected by the temperature of the target atom. The relative motion of the target can result in the target moving towards or away from the incident particle causing them to collide with different energies.\n",
    "\n",
    "This python notebook allows users to plot neutron interaction cross sections using OpenMC taking Doppler broadening into account."
   ]
  },
  {
   "cell_type": "code",
   "execution_count": null,
   "metadata": {},
   "outputs": [],
   "source": [
    "from IPython.display import IFrame\n",
    "IFrame(src=\"https://www.youtube.com/embed/mkl1mVnTO6g\", width=560, height=340)"
   ]
  },
  {
   "cell_type": "markdown",
   "metadata": {},
   "source": [
    "First import packages needed for OpenMC and configure the nuclear data path"
   ]
  },
  {
   "cell_type": "code",
   "execution_count": null,
   "metadata": {},
   "outputs": [],
   "source": [
    "import numpy as np\n",
    "import matplotlib.pyplot as plt\n",
    "\n",
    "import openmc\n",
    "from openmc.data import REACTION_MT\n",
    "\n",
    "# Setting the cross section path to the correct location in the docker image.\n",
    "# If you are running this outside the docker image you will have to change this path to your local cross section path.\n",
    "openmc.config['cross_sections'] = '/nuclear_data/cross_sections.xml'"
   ]
  },
  {
   "attachments": {},
   "cell_type": "markdown",
   "metadata": {},
   "source": [
    "This code block plots the total neutron cross section for Tungsten-186 at 3 different temperatures."
   ]
  },
  {
   "cell_type": "code",
   "execution_count": null,
   "metadata": {},
   "outputs": [],
   "source": [
    "energy = np.linspace(1, 2000, 50000)  # sets the energy range from 1 to 2000eV, this is were resonances are\n",
    "\n",
    "mt_number = REACTION_MT[\"(n,total)\"]  # looks up the MT number for the total reaction\n",
    "\n",
    "h5_file = f\"/WMP_Library/074186.h5\"  # 074186 is W186\n",
    "\n",
    "isotope_multipole = openmc.data.WindowedMultipole.from_hdf5(h5_file)  # loads up the WMP cross section file\n",
    "\n",
    "temperature = 200  # temperature in kelvin to plot\n",
    "\n",
    "fig, ax = plt.subplots()\n",
    "\n",
    "ax.plot(\n",
    "    energy,\n",
    "    isotope_multipole(energy, temperature)[mt_number],\n",
    "    label=f\"Tungsten 186 at {temperature} Kelvin\"\n",
    ")\n",
    "\n",
    "ax.set_yscale('log')\n",
    "ax.set_ylabel('Microscopic cross section [barns]')\n",
    "ax.set_xlabel('Energy [eV]')"
   ]
  },
  {
   "attachments": {},
   "cell_type": "markdown",
   "metadata": {},
   "source": [
    "Zoom in on one of the spectral peaks to observe how increasing temperature causes Doppler broadening."
   ]
  },
  {
   "attachments": {},
   "cell_type": "markdown",
   "metadata": {},
   "source": [
    "The next code block plots the total neutron cross section for Iron-56 at 2 different temperatures for a specified energy range that captures a particular resonance. Doppler broadening of the resonance peak should be observed."
   ]
  },
  {
   "cell_type": "code",
   "execution_count": null,
   "metadata": {},
   "outputs": [],
   "source": [
    "energy = np.linspace(1100, 1200, 50000)  # sets the energy range from 1 to 2000eV, this is were a single resonance is\n",
    "\n",
    "mt_number = REACTION_MT[\"(n,total)\"]  # looks up the MT number for the total reaction\n",
    "\n",
    "h5_file = f\"/WMP_Library/026056.h5\"  # 026056 is Fe56\n",
    "\n",
    "isotope_multipole = openmc.data.WindowedMultipole.from_hdf5(h5_file)  # loads up the WMP cross section file\n",
    "\n",
    "fig, ax = plt.subplots()\n",
    "\n",
    "for temperature in [300, 1000]:   # temperatures in kelvin to plot\n",
    "\n",
    "    ax.plot(\n",
    "        energy,\n",
    "        isotope_multipole(energy, temperature)[mt_number],\n",
    "        label=f\"Iron 56 at {temperature} Kelvin\"\n",
    "    )\n",
    "\n",
    "ax.set_yscale('log')\n",
    "ax.set_ylabel('Microscopic cross section [barns]')\n",
    "ax.set_xlabel('Energy [eV]')"
   ]
  },
  {
   "attachments": {},
   "cell_type": "markdown",
   "metadata": {},
   "source": [
    "**Learning Outcomes from Part 4:**\n",
    "- The relative motion of colliding nuclei causes Doppler broadening of interaction cross sections."
   ]
  }
 ],
 "metadata": {
  "kernelspec": {
   "display_name": "Python 3 (ipykernel)",
   "language": "python",
   "name": "python3"
  },
  "language_info": {
   "codemirror_mode": {
    "name": "ipython",
    "version": 3
   },
   "file_extension": ".py",
   "mimetype": "text/x-python",
   "name": "python",
   "nbconvert_exporter": "python",
   "pygments_lexer": "ipython3",
   "version": "3.10.12"
  }
 },
 "nbformat": 4,
 "nbformat_minor": 4
}
