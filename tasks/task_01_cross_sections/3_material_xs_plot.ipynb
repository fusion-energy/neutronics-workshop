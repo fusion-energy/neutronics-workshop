{
 "cells": [
  {
   "attachments": {},
   "cell_type": "markdown",
   "metadata": {},
   "source": [
    "# Part 3 - Plotting material cross sections\n",
    "\n",
    "OpenMC can also be used to plot neutron interaction cross sections for specific materials.\n",
    "\n",
    "This python notebook allows users to plot neutron interaction cross sections for specific materials using OpenMC.\n",
    "\n",
    "These plots show the <b>Macroscopic</b> cross section which is the the effective target area of all of the nuclei contained in the volume of the material.\n",
    "\n",
    "Macroscopic cross section (Σ) is related to Microscopic cross section (σ) with the following equation.\n",
    "\n",
    "Σ=σ.N\n",
    "\n",
    "Where N is the number density of nuclei in units of nuclei / $\\mathrm{m}^3$.\n",
    "\n",
    "The units of Macroscopic cross section are therefore $\\mathrm{m}^{-1}$."
   ]
  },
  {
   "cell_type": "code",
   "execution_count": null,
   "metadata": {},
   "outputs": [],
   "source": [
    "from IPython.display import IFrame\n",
    "IFrame(src=\"https://www.youtube.com/embed/ec5BLLL6Q_g\", width=560, height=340)"
   ]
  },
  {
   "attachments": {},
   "cell_type": "markdown",
   "metadata": {},
   "source": [
    "First import OpenMC and configure the nuclear data path"
   ]
  },
  {
   "cell_type": "code",
   "execution_count": null,
   "metadata": {},
   "outputs": [],
   "source": [
    "import openmc\n",
    "\n",
    "# Setting the cross section path to the correct location in the docker image.\n",
    "# If you are running this outside the docker image you will have to change this path to your local cross section path.\n",
    "openmc.config['cross_sections'] = '/nuclear_data/cross_sections.xml'"
   ]
  },
  {
   "attachments": {},
   "cell_type": "markdown",
   "metadata": {},
   "source": [
    "To plot neutron interaction cross sections for a material we first need to create that material in OpenMC. Making materials is covered in the next task but for now, the following code block makes a steel material from Iron and Carbon."
   ]
  },
  {
   "cell_type": "code",
   "execution_count": null,
   "metadata": {},
   "outputs": [],
   "source": [
    "steel_mat = openmc.Material()\n",
    "steel_mat.add_element('Fe', 0.975)\n",
    "steel_mat.add_element('C', 0.025)\n",
    "steel_mat.set_density('g/cm3', 7.7)\n",
    "steel_mat.name = 'Steel'"
   ]
  },
  {
   "attachments": {},
   "cell_type": "markdown",
   "metadata": {},
   "source": [
    "This next code block plots the total macroscopic neutron interaction cross section (n,total) for the material we just created."
   ]
  },
  {
   "cell_type": "code",
   "execution_count": null,
   "metadata": {},
   "outputs": [],
   "source": [
    "import matplotlib.pyplot as plt\n",
    "\n",
    "openmc.plotter.plot_xs(\n",
    "    reactions = {\n",
    "        steel_mat: ['total'],\n",
    "    }\n",
    ")\n",
    "plt.title = 'Total cross section'\n",
    "plt.savefig('total_cross_section_pushers.png', dpi=400)"
   ]
  },
  {
   "attachments": {},
   "cell_type": "markdown",
   "metadata": {},
   "source": [
    "The next code block makes two variations of a Lithium ceramic material. One has natural levels of Li6 and Li7 while the other has an enriched level of Li6."
   ]
  },
  {
   "cell_type": "code",
   "execution_count": null,
   "metadata": {},
   "outputs": [],
   "source": [
    "# creates an openmc material for Li4SiO4\n",
    "natural_Li4SiO4 = openmc.Material(name = 'natural Li4SiO4')\n",
    "natural_Li4SiO4.add_elements_from_formula(\n",
    "    'Li4SiO4',\n",
    "    percent_type='ao'\n",
    ")\n",
    "natural_Li4SiO4.set_density('g/cm3', 1.877)\n",
    "\n",
    "\n",
    "# creates an openmc material for Li4SiO4 with Li6 enrichment of 60%\n",
    "enriched_Li4SiO4 = openmc.Material(name = 'enriched Li4SiO4')\n",
    "enriched_Li4SiO4.add_elements_from_formula(\n",
    "    'Li4SiO4',\n",
    "    percent_type='ao',\n",
    "    enrichment=60,\n",
    "    enrichment_target='Li6',\n",
    "    enrichment_type='ao'\n",
    ")\n",
    "enriched_Li4SiO4.set_density('g/cm3', 1.844)\n",
    "# Note, this density is lower than naturally enriched Li4SiO4\n",
    "# This is because Li6 is lighter than Li7"
   ]
  },
  {
   "attachments": {},
   "cell_type": "markdown",
   "metadata": {},
   "source": [
    "This code block then plots the tritium production cross section for each ceramic."
   ]
  },
  {
   "cell_type": "code",
   "execution_count": null,
   "metadata": {},
   "outputs": [],
   "source": [
    "openmc.plotter.plot_xs(\n",
    "    reactions = {\n",
    "        natural_Li4SiO4: ['(n,Xt)'],\n",
    "        enriched_Li4SiO4: ['(n,Xt)'],\n",
    "    }\n",
    ")\n",
    "\n",
    "plt.show()"
   ]
  },
  {
   "attachments": {},
   "cell_type": "markdown",
   "metadata": {},
   "source": [
    "The enriched Lithium ceramic has a higher tritium production cross section than the non-enriched Lithium ceramic. This is because Li6 has a much higher (n,Xt) cross section than Li7 (at low energies)."
   ]
  },
  {
   "attachments": {},
   "cell_type": "markdown",
   "metadata": {},
   "source": [
    "**Learning Outcomes for Part 3:**\n",
    "- OpenMC can be used to plot interaction cross sections for materials.\n",
    "- Lithium-6 enrichment increases tritium production from low energy neutrons."
   ]
  }
 ],
 "metadata": {
  "kernelspec": {
   "display_name": "Python 3 (ipykernel)",
   "language": "python",
   "name": "python3"
  },
  "language_info": {
   "codemirror_mode": {
    "name": "ipython",
    "version": 3
   },
   "file_extension": ".py",
   "mimetype": "text/x-python",
   "name": "python",
   "nbconvert_exporter": "python",
   "pygments_lexer": "ipython3",
   "version": "3.10.12"
  }
 },
 "nbformat": 4,
 "nbformat_minor": 4
}
