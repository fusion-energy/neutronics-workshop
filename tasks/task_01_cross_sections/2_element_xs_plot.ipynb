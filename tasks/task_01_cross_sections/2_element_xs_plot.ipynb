{
 "cells": [
  {
   "cell_type": "markdown",
   "metadata": {},
   "source": [
    "# Part 2 - Plotting element cross sections\n",
    "\n",
    "As shown in Part 1, OpenMC is able to plot neutron interaction cross sections for specific isotopes. However, we can also do the same for elements.\n",
    "\n",
    "This python notebook allows users to plot neutron interaction cross sections for specific elements using OpenMC.\n",
    "\n",
    "To plot elemental cross sections, the cross sections of each stable isotope of the element are combined."
   ]
  },
  {
   "cell_type": "code",
   "execution_count": null,
   "metadata": {},
   "outputs": [],
   "source": [
    "from IPython.display import IFrame\n",
    "IFrame(src=\"https://www.youtube.com/embed/ELZNeIdSuMY\", width=560, height=340)"
   ]
  },
  {
   "cell_type": "markdown",
   "metadata": {},
   "source": [
    "First import OpenMC and configure the nuclear data path"
   ]
  },
  {
   "cell_type": "code",
   "execution_count": null,
   "metadata": {},
   "outputs": [],
   "source": [
    "import openmc\n",
    "\n",
    "# Setting the cross section path to the correct location in the docker image.\n",
    "# If you are running this outside the docker image you will have to change this path to your local cross section path.\n",
    "openmc.config['cross_sections'] = '/nuclear_data/cross_sections.xml'"
   ]
  },
  {
   "cell_type": "markdown",
   "metadata": {},
   "source": [
    "This first code block plots the (n,2n) neutron multiplication cross section for elements up to Iron."
   ]
  },
  {
   "cell_type": "code",
   "execution_count": null,
   "metadata": {
    "scrolled": true
   },
   "outputs": [],
   "source": [
    "import openmc\n",
    "import matplotlib.pyplot as plt\n",
    "\n",
    "# we pass in a blank axis as we want to modify it afterwards\n",
    "fig, ax = plt.subplots()\n",
    "\n",
    "fig = openmc.plotter.plot_xs(\n",
    "    axis=ax,\n",
    "    reactions = {\n",
    "        \"H\": [\"(n,2n)\"],\n",
    "        \"He\": [\"(n,2n)\"],\n",
    "        \"Li\": [\"(n,2n)\"],\n",
    "        \"Be\": [\"(n,2n)\"],\n",
    "        \"B\": [\"(n,2n)\"],\n",
    "        \"C\": [\"(n,2n)\"],\n",
    "        \"N\": [\"(n,2n)\"],\n",
    "        \"O\": [\"(n,2n)\"],\n",
    "        \"F\": [\"(n,2n)\"],\n",
    "        \"Ne\": [\"(n,2n)\"],\n",
    "        \"Na\": [\"(n,2n)\"],\n",
    "        \"Mg\": [\"(n,2n)\"],\n",
    "        \"Al\": [\"(n,2n)\"],\n",
    "        \"Si\": [\"(n,2n)\"],\n",
    "        \"Cl\": [\"(n,2n)\"],\n",
    "        \"Ar\": [\"(n,2n)\"],\n",
    "        \"K\": [\"(n,2n)\"],\n",
    "        \"Ca\": [\"(n,2n)\"],\n",
    "        \"Sc\": [\"(n,2n)\"],\n",
    "        \"Ti\": [\"(n,2n)\"],\n",
    "        \"V\": [\"(n,2n)\"],\n",
    "        \"Cr\": [\"(n,2n)\"],\n",
    "        \"Mn\": [\"(n,2n)\"],\n",
    "        \"Fe\": [\"(n,2n)\"],\n",
    "    }\n",
    ")\n",
    "ax.legend(bbox_to_anchor=(1.05, 1), loc=2, borderaxespad=0.0)\n",
    "# modify the axis afterwards to make the data clearer\n",
    "ax.set_xscale('linear')\n",
    "ax.set_yscale('linear')\n",
    "ax.set_xlim(0, 15e6)  # set the x axis limits from 0 to 15MeV\n",
    "\n",
    "plt.show()"
   ]
  },
  {
   "cell_type": "markdown",
   "metadata": {},
   "source": [
    "Tritium production is another important reaction in fusion as it affects the rate at which tritium can be bred. When designing breeder blankets we need to use materials which maximise both neutron multiplication AND tritium production.\n",
    "\n",
    "The next code block plots the (n,Xt) tritium production reaction for all elements."
   ]
  },
  {
   "cell_type": "code",
   "execution_count": null,
   "metadata": {},
   "outputs": [],
   "source": [
    "# we pass in a blank axis as we want to modify it afterwards\n",
    "fig, ax = plt.subplots()\n",
    "\n",
    "fig = openmc.plotter.plot_xs(\n",
    "    axis=ax,\n",
    "    reactions = {\n",
    "        \"H\": [\"(n,Xt)\"],\n",
    "        \"He\": [\"(n,Xt)\"],\n",
    "        \"Li\": [\"(n,Xt)\"],\n",
    "        \"Be\": [\"(n,Xt)\"],\n",
    "        \"B\": [\"(n,Xt)\"],\n",
    "        \"C\": [\"(n,Xt)\"],\n",
    "        \"N\": [\"(n,Xt)\"],\n",
    "        \"O\": [\"(n,Xt)\"],\n",
    "        \"F\": [\"(n,Xt)\"],\n",
    "        \"Ne\": [\"(n,Xt)\"],\n",
    "        \"Na\": [\"(n,Xt)\"],\n",
    "        \"Mg\": [\"(n,Xt)\"],\n",
    "        \"Al\": [\"(n,Xt)\"],\n",
    "        \"Si\": [\"(n,Xt)\"],\n",
    "        \"Cl\": [\"(n,Xt)\"],\n",
    "        \"Ar\": [\"(n,Xt)\"],\n",
    "        \"K\": [\"(n,Xt)\"],\n",
    "        \"Ca\": [\"(n,Xt)\"],\n",
    "        \"Sc\": [\"(n,Xt)\"],\n",
    "        \"Ti\": [\"(n,Xt)\"],\n",
    "        \"V\": [\"(n,Xt)\"],\n",
    "        \"Cr\": [\"(n,Xt)\"],\n",
    "        \"Mn\": [\"(n,Xt)\"],\n",
    "        \"Fe\": [\"(n,Xt)\"],\n",
    "    }\n",
    ")\n",
    "\n",
    "# modify the axis afterwards to make the data clearer\n",
    "ax.set_xscale('linear')\n",
    "ax.set_yscale('log')\n",
    "ax.legend(bbox_to_anchor=(1.05, 1), loc=2, borderaxespad=0.0)\n",
    "ax.set_xlim(0, 15e6)  # set the x axis limits from 0 to 15MeV\n",
    "\n",
    "plt.show()"
   ]
  },
  {
   "cell_type": "markdown",
   "metadata": {},
   "source": [
    "Lithium is the typical candidate tritium breeder material used in D-T fusion reactor designs. \n",
    "\n",
    "The graph shows that Lithium has a high (n,Xt) cross section for low energy neutrons which decreases as neutron energy increases."
   ]
  },
  {
   "cell_type": "markdown",
   "metadata": {},
   "source": [
    "**Learning Outcomes for Part 2:**\n",
    "- OpenMC can be used to plot interaction cross sections for specific elements.\n",
    "- Tritium production is an important reaction to consider when selecting a breeder material.\n",
    "- Lithium is a good material for tritium production."
   ]
  }
 ],
 "metadata": {
  "kernelspec": {
   "display_name": "Python 3 (ipykernel)",
   "language": "python",
   "name": "python3"
  },
  "language_info": {
   "codemirror_mode": {
    "name": "ipython",
    "version": 3
   },
   "file_extension": ".py",
   "mimetype": "text/x-python",
   "name": "python",
   "nbconvert_exporter": "python",
   "pygments_lexer": "ipython3",
   "version": "3.10.12"
  }
 },
 "nbformat": 4,
 "nbformat_minor": 4
}
