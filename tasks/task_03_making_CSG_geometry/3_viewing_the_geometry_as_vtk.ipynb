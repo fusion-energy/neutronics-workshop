{
 "cells": [
  {
   "attachments": {},
   "cell_type": "markdown",
   "metadata": {},
   "source": [
    "# Part 3 - 3D Geometry viewing\n",
    "\n",
    "It is also possible to create a 3D representation of CSG geometry. The model is converted into a pixelated geometry which can resemble the style of geometry seen in the minecraft computer game.\n",
    "\n",
    "This is not an actual representation of the CSG geometry but more like a sample of the types of cells with 3D coordinates. CAD geometry is covered later and this gives us a method of seeing the 3D geometry more accurately.\n",
    "\n",
    "3D pixelated geometry can still be useful for exploring the model; particularly if the resolution is high enough. However, this can be a memory intensive task.\n",
    "\n",
    "This python notebook allows users to construct CSG geometry and view a 3D representation."
   ]
  },
  {
   "attachments": {},
   "cell_type": "markdown",
   "metadata": {},
   "source": [
    "This first code block recreates the simple reactor geometry seen in Part 2, but also assigns materials to each cell."
   ]
  },
  {
   "cell_type": "markdown",
   "metadata": {},
   "source": [
    "First import OpenMC and configure the nuclear data path"
   ]
  },
  {
   "cell_type": "code",
   "execution_count": null,
   "metadata": {},
   "outputs": [],
   "source": [
    "import openmc\n",
    "\n",
    "# Setting the cross section path to the correct location in the docker image.\n",
    "# If you are running this outside the docker image you will have to change this path to your local cross section path.\n",
    "openmc.config['cross_sections'] = '/nuclear_data/cross_sections.xml'"
   ]
  },
  {
   "cell_type": "code",
   "execution_count": null,
   "metadata": {},
   "outputs": [],
   "source": [
    "copper = openmc.Material()\n",
    "copper.set_density('g/cm3', 8.5)\n",
    "copper.add_element('Cu', 1.0)  # Note, percent_type does not have to be specified as material is 100% copper\n",
    "\n",
    "iron = openmc.Material()\n",
    "iron.set_density('g/cm3', 7.75)\n",
    "iron.add_element('Fe', 1.0, percent_type='wo')\n",
    "\n",
    "breeder_material = openmc.Material()\n",
    "breeder_material.set_density('g/cm3', 0.5)\n",
    "breeder_material.add_element('Li', 1, percent_type='ao')\n",
    "\n",
    "mats = openmc.Materials([copper, iron, breeder_material])\n",
    "\n",
    "mats.export_to_xml()\n",
    "\n",
    "# define all the surfaces\n",
    "central_sol_surface = openmc.ZCylinder(r=100)\n",
    "central_shield_outer_surface = openmc.ZCylinder(r=110, boundary_type='vacuum')\n",
    "vessel_inner = openmc.Sphere(r=500, boundary_type='vacuum')\n",
    "first_wall_outer_surface = openmc.Sphere(r=510)\n",
    "breeder_blanket_outer_surface = openmc.Sphere(r=610)\n",
    "\n",
    "\n",
    "# define the cells\n",
    "central_sol_region = -central_sol_surface & -breeder_blanket_outer_surface\n",
    "central_sol_cell = openmc.Cell(region=central_sol_region)\n",
    "central_sol_cell.fill = copper\n",
    "\n",
    "central_shield_region = +central_sol_surface & -central_shield_outer_surface & -breeder_blanket_outer_surface\n",
    "central_shield_cell = openmc.Cell(region=central_shield_region)\n",
    "central_shield_cell.fill = iron\n",
    "\n",
    "first_wall_region = -first_wall_outer_surface & +vessel_inner & +central_shield_outer_surface\n",
    "first_wall_cell = openmc.Cell(region=first_wall_region)\n",
    "first_wall_cell.fill = iron\n",
    "\n",
    "breeder_blanket_region = +first_wall_outer_surface & -breeder_blanket_outer_surface & +central_shield_outer_surface\n",
    "breeder_blanket_cell = openmc.Cell(region=breeder_blanket_region)\n",
    "breeder_blanket_cell.fill = breeder_material\n",
    "\n",
    "my_geometry = openmc.Geometry([central_sol_cell,central_shield_cell,first_wall_cell, breeder_blanket_cell])\n",
    "\n",
    "my_geometry.export_to_xml()\n"
   ]
  },
  {
   "attachments": {},
   "cell_type": "markdown",
   "metadata": {},
   "source": [
    "The next code block runs OpenMC in plot mode and produces a vti file.\n",
    "\n",
    "Particles are not transported through the geometry in plot mode - it simply samples the geometry on the grid and makes a output vti file with the results."
   ]
  },
  {
   "cell_type": "code",
   "execution_count": null,
   "metadata": {},
   "outputs": [],
   "source": [
    "# makes the 3d \"cube\" style geometry\n",
    "vox_plot = openmc.Plot()\n",
    "vox_plot.type = 'voxel'\n",
    "\n",
    "# makes sure the bounds of the plot include the whole geometry\n",
    "vox_plot.width = my_geometry.bounding_box.width\n",
    "\n",
    "# makes sure the voxel plot is centered at the center of the geometry\n",
    "vox_plot.origin = my_geometry.bounding_box.center\n",
    "\n",
    "# sets the pixels in each direction to be proportional to the size of the geometry in that direction\n",
    "# Your computer RAM will limit the number of pixels you can set in each direction.\n",
    "# The * 0.1 part of this line reduces the number of pixels in each direction to a reasonable amount but this could be increased if you want more resolution.\n",
    "vox_plot.pixels = [int(w* 0.1) for w in my_geometry.bounding_box.width]\n",
    "\n",
    "vox_plot.color_by = 'material'\n",
    "\n",
    "vox_plot.to_vtk(output='voxel_plot.vti')"
   ]
  },
  {
   "attachments": {},
   "cell_type": "markdown",
   "metadata": {},
   "source": [
    "IF you are running this in Docker then right mouse click on the vti file in the file explorer to download the vti file onto your base computer and open it with a VTK file reader such as Paraview or Visit.\n",
    "\n",
    "Paraview can be downloaded here: https://www.paraview.org/download/. Visit can be downloaded here: https://wci.llnl.gov/simulation/computer-codes/visit/downloads."
   ]
  },
  {
   "attachments": {},
   "cell_type": "markdown",
   "metadata": {},
   "source": [
    "**Learning Outcomes for Part 3**\n",
    "\n",
    "- CSG models can be converted to vti files and viewed in 3D with tools such as Paraview or Visit."
   ]
  }
 ],
 "metadata": {
  "kernelspec": {
   "display_name": "Python 3 (ipykernel)",
   "language": "python",
   "name": "python3"
  },
  "language_info": {
   "codemirror_mode": {
    "name": "ipython",
    "version": 3
   },
   "file_extension": ".py",
   "mimetype": "text/x-python",
   "name": "python",
   "nbconvert_exporter": "python",
   "pygments_lexer": "ipython3",
   "version": "3.10.12"
  }
 },
 "nbformat": 4,
 "nbformat_minor": 4
}
