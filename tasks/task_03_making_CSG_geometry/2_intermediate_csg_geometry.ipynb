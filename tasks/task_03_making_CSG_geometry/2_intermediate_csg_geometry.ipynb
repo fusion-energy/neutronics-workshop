{
 "cells": [
  {
   "attachments": {},
   "cell_type": "markdown",
   "metadata": {},
   "source": [
    "# Part 2 - Constructing CSG geometry\n",
    "\n",
    "This python notebook allows users to build upon the geometry constructed in Part 1 by adding a center column to the model.\n",
    "\n",
    "The center column requires a different surface type. OpenMC has several different surface types in addition to spheres. The documentation contains useful information on all surface types supported: https://openmc.readthedocs.io/en/stable/usersguide/geometry.html#surfaces-and-regions."
   ]
  },
  {
   "cell_type": "markdown",
   "metadata": {},
   "source": [
    "First import OpenMC and configure the nuclear data path"
   ]
  },
  {
   "cell_type": "code",
   "execution_count": null,
   "metadata": {},
   "outputs": [],
   "source": [
    "import openmc\n",
    "\n",
    "# Setting the cross section path to the correct location in the docker image.\n",
    "# If you are running this outside the docker image you will have to change this path to your local cross section path.\n",
    "openmc.config['cross_sections'] = '/nuclear_data/cross_sections.xml'"
   ]
  },
  {
   "cell_type": "markdown",
   "metadata": {},
   "source": [
    "For the center column we will use a cylinder with Z axis orientation.\n",
    "\n",
    "The code block below shows how the center column can be defined."
   ]
  },
  {
   "cell_type": "code",
   "execution_count": null,
   "metadata": {},
   "outputs": [],
   "source": [
    "# surfaces\n",
    "central_column_surface = openmc.ZCylinder(r=100) # note the new surface type\n",
    "inner_sphere_surface = openmc.Sphere(r=480)\n",
    "middle_sphere_surface = openmc.Sphere(r=500) \n",
    "outer_sphere_surface = openmc.Sphere(r=600, boundary_type='vacuum')\n",
    "\n",
    "# regions\n",
    "# the center column region is cut at the top and bottom using the -outer_sphere_surface\n",
    "central_column_region = -central_column_surface & -outer_sphere_surface\n",
    "firstwall_region = -middle_sphere_surface & +inner_sphere_surface & +central_column_surface\n",
    "blanket_region = +middle_sphere_surface & -outer_sphere_surface & +central_column_surface\n",
    "inner_vessel_region = +central_column_surface & -inner_sphere_surface\n",
    "\n",
    "# cells\n",
    "firstwall_cell = openmc.Cell(region=firstwall_region)\n",
    "central_column_cell = openmc.Cell(region=central_column_region)\n",
    "blanket_cell = openmc.Cell(region=blanket_region)\n",
    "inner_vessel_cell = openmc.Cell(region=inner_vessel_region)\n",
    "\n",
    "geometry = openmc.Geometry([central_column_cell, firstwall_cell, blanket_cell, inner_vessel_cell])\n",
    "\n",
    "# visualization\n",
    "color_assignment = {blanket_cell: 'blue', firstwall_cell: 'red',\n",
    "                    inner_vessel_cell:'grey', central_column_cell:'purple'}\n",
    "\n",
    "plot = geometry.plot(basis='xz', color_by='cell', colors=color_assignment)\n",
    "plot.figure.savefig('xz-cell.png')\n",
    "\n",
    "plot = geometry.plot(basis='xy', color_by='cell',  colors=color_assignment)\n",
    "plot.figure.savefig('xy-cell.png')\n",
    "\n",
    "plot = geometry.plot(basis='yz', color_by='cell',  colors=color_assignment)\n",
    "plot.figure.savefig('yz-cell.png')"
   ]
  },
  {
   "attachments": {},
   "cell_type": "markdown",
   "metadata": {},
   "source": [
    "Another way to add the center column shape is to use Boolean operators. This is shown in the code block below."
   ]
  },
  {
   "cell_type": "code",
   "execution_count": null,
   "metadata": {},
   "outputs": [],
   "source": [
    "# surfaces\n",
    "central_column_surface = openmc.ZCylinder(r=100) # note the new surface type\n",
    "inner_sphere_surface = openmc.Sphere(r=480)\n",
    "middle_sphere_surface = openmc.Sphere(r=500) \n",
    "outer_sphere_surface = openmc.Sphere(r=600, boundary_type='vacuum')\n",
    "\n",
    "# regions, this time defined using boolean operators\n",
    "# There are 3 operators to choose from\n",
    "#     | OR\n",
    "#     & AND\n",
    "#     ~ NOT\n",
    "# This examples uses the ~ NOT operators\n",
    "\n",
    "central_column_region = -central_column_surface & -outer_sphere_surface\n",
    "\n",
    "# the inner_vessel_region is defined using the logical NOT operator ~\n",
    "inner_vessel_region = -inner_sphere_surface & ~central_column_region\n",
    "\n",
    "# the firstwall_region is defined as below the middle surface and not in two other regions\n",
    "firstwall_region = -middle_sphere_surface & ~inner_vessel_region & ~central_column_region\n",
    "\n",
    "# the blanket_region is defined as between two surfaces and not the center_column_region\n",
    "blanket_region = +middle_sphere_surface & -outer_sphere_surface & ~central_column_region\n",
    "\n",
    "\n",
    "# cells defined in the same way\n",
    "firstwall_cell = openmc.Cell(region=firstwall_region)\n",
    "central_column_cell = openmc.Cell(region=central_column_region)\n",
    "blanket_cell = openmc.Cell(region=blanket_region)\n",
    "inner_vessel_cell = openmc.Cell(region=inner_vessel_region)\n",
    "\n",
    "geometry = openmc.Geometry([central_column_cell, firstwall_cell, blanket_cell, inner_vessel_cell])\n",
    "\n",
    "# VISULISATION\n",
    "color_assignment = {blanket_cell: 'blue', firstwall_cell: 'red',\n",
    "                    inner_vessel_cell:'grey', central_column_cell:'purple'}\n",
    "\n",
    "plot = geometry.plot(basis='xz', color_by='cell', colors=color_assignment)\n",
    "plot.figure.savefig('xz-cell.png')\n",
    "\n",
    "plot = geometry.plot(basis='xy', color_by='cell',  colors=color_assignment)\n",
    "plot.figure.savefig('xy-cell.png')\n",
    "\n",
    "plot = geometry.plot(basis='yz', color_by='cell',  colors=color_assignment)\n",
    "plot.figure.savefig('yz-cell.png')"
   ]
  },
  {
   "attachments": {},
   "cell_type": "markdown",
   "metadata": {},
   "source": [
    "More details on CSG geometry construction methods can be found here:\n",
    "https://docs.openmc.org/en/stable/usersguide/geometry.html.\n",
    "\n",
    "Additionally, OpenMC has a geometry viewing package which can be found here: https://github.com/openmc-dev/plotter."
   ]
  },
  {
   "attachments": {},
   "cell_type": "markdown",
   "metadata": {},
   "source": [
    "**Learning Outcomes for Part 2:**\n",
    "\n",
    "- Using different surface types in OpenMC to construct CSG.\n",
    "- Defining geometry surfaces, regions and cells."
   ]
  },
  {
   "attachments": {},
   "cell_type": "markdown",
   "metadata": {},
   "source": [
    "Bonus knowledge\n",
    "\n",
    "- There is an excelent geometry viewing package for OpenMC that also supports mesh tally visualization.\n",
    "https://github.com/openmc-dev/plotter"
   ]
  }
 ],
 "metadata": {
  "kernelspec": {
   "display_name": "Python 3 (ipykernel)",
   "language": "python",
   "name": "python3"
  },
  "language_info": {
   "codemirror_mode": {
    "name": "ipython",
    "version": 3
   },
   "file_extension": ".py",
   "mimetype": "text/x-python",
   "name": "python",
   "nbconvert_exporter": "python",
   "pygments_lexer": "ipython3",
   "version": "3.10.12"
  }
 },
 "nbformat": 4,
 "nbformat_minor": 4
}
