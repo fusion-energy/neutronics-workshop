{
 "cells": [
  {
   "attachments": {},
   "cell_type": "markdown",
   "metadata": {},
   "source": [
    "# Part 1 - Constructing simple CSG geometry\n",
    "\n",
    "To perform a neutronics simulation the geometry of the model must be defined. The simplest way to do this is to use Constructive Solid Geometry (CSG) which involves using primitive shapes and boolean operations to create cells and void spaces.\n",
    "\n",
    "This python notebook allows users to make a simple CSG using OpenMC and plot 2D slices of the geometry."
   ]
  },
  {
   "cell_type": "code",
   "execution_count": null,
   "metadata": {},
   "outputs": [],
   "source": [
    "from IPython.display import IFrame\n",
    "IFrame(src=\"https://www.youtube.com/embed/Ovr7oYukYRw\", width=560, height=340)"
   ]
  },
  {
   "cell_type": "markdown",
   "metadata": {},
   "source": [
    "First import OpenMC and configure the nuclear data path"
   ]
  },
  {
   "cell_type": "code",
   "execution_count": null,
   "metadata": {},
   "outputs": [],
   "source": [
    "import openmc\n",
    "\n",
    "# Setting the cross section path to the correct location in the docker image.\n",
    "# If you are running this outside the docker image you will have to change this path to your local cross section path.\n",
    "openmc.config['cross_sections'] = '/nuclear_data/cross_sections.xml'"
   ]
  },
  {
   "attachments": {},
   "cell_type": "markdown",
   "metadata": {},
   "source": [
    "This first code block creates a simple spherical shell geometry by defining two spherical surfaces at different radii. The region between the two surfaces is then defined and a cell created which is added to the geometry 'universe'.\n",
    "\n",
    "Run the cell to produce three 2D slices of the geometry in different planes."
   ]
  },
  {
   "cell_type": "code",
   "execution_count": null,
   "metadata": {},
   "outputs": [],
   "source": [
    "# example surfaces\n",
    "inner_sphere_surface = openmc.Sphere(r=500)\n",
    "outer_sphere_surface = openmc.Sphere(r=600)\n",
    "\n",
    "# above (+) inner_sphere_surface and below (-) outer_sphere_surface\n",
    "blanket_region = +inner_sphere_surface & -outer_sphere_surface  \n",
    "\n",
    "# example cell\n",
    "blanket_cell = openmc.Cell(region=blanket_region)\n",
    "\n",
    "# makes a universe to cotain all the cells\n",
    "geometry = openmc.Geometry([blanket_cell])  \n",
    "\n",
    "# shows the plots, as the geometry is symmetrical the plots look the same\n",
    "color_assignment = {blanket_cell: 'blue'}\n",
    "\n",
    "plot = geometry.plot(basis='xz', colors=color_assignment)\n",
    "plot.figure.savefig('xz-cell.png')\n",
    "\n",
    "plot = geometry.plot(basis='xy',  colors=color_assignment)\n",
    "plot.figure.savefig('xy-cell.png')\n",
    "\n",
    "plot = geometry.plot(basis='yz',  colors=color_assignment)\n",
    "plot.figure.savefig('yz-cell.png')"
   ]
  },
  {
   "attachments": {},
   "cell_type": "markdown",
   "metadata": {},
   "source": [
    "The next code block adds a firstwall cell to the inner surface of the spherical shell."
   ]
  },
  {
   "cell_type": "code",
   "execution_count": null,
   "metadata": {},
   "outputs": [],
   "source": [
    "# example surfaces\n",
    "inner_sphere_surface = openmc.Sphere(r=400)\n",
    "middle_sphere_surface = openmc.Sphere(r=500) # note the extra surface\n",
    "outer_sphere_surface = openmc.Sphere(r=600)\n",
    "\n",
    "# above (+) middle_sphere_surface and below (-) outer_sphere_surface\n",
    "blanket_region = +middle_sphere_surface & -outer_sphere_surface\n",
    "# above (+) inner_sphere_surface and below (-) middle_sphere_surface\n",
    "firstwall_region = +inner_sphere_surface & -middle_sphere_surface\n",
    "\n",
    "# now we have two cells\n",
    "blanket_cell = openmc.Cell(region=blanket_region)\n",
    "firstwall_cell = openmc.Cell(region=firstwall_region)\n",
    "\n",
    "# there are now two cells in the list\n",
    "geometry = openmc.Geometry([blanket_cell, firstwall_cell])  \n",
    "\n",
    "# shows the plots, which still look the same for all directions\n",
    "color_assignment = {blanket_cell: 'blue', firstwall_cell: 'red'}\n",
    "\n",
    "plot = geometry.plot(basis='xz', colors=color_assignment)\n",
    "plot.figure.savefig('xz-cell.png')\n",
    "\n",
    "plot = geometry.plot(basis='xy',  colors=color_assignment)\n",
    "plot.figure.savefig('xy-cell.png')\n",
    "\n",
    "plot = geometry.plot(basis='yz',  colors=color_assignment)\n",
    "plot.figure.savefig('yz-cell.png')"
   ]
  },
  {
   "attachments": {},
   "cell_type": "markdown",
   "metadata": {},
   "source": [
    "When creating CSG there is another key aspect of the geometry required when we want to use it to simulate particle movement and interactions - the entire geometry must be defined.\n",
    "\n",
    "As well as defining the cells which contain materials, we must also define areas of the geometry with no materials, which are also called 'voids'. By default, cells are all voids until a material is assigned to those cells.\n",
    "\n",
    "Also, the outermost surface must be identified with the boundary_type='vacuum' keyword which tells OpenMC to not compute the movement of particles beyond this surface."
   ]
  },
  {
   "attachments": {},
   "cell_type": "markdown",
   "metadata": {},
   "source": [
    "The next code block shows how void regions and a vacuum boundary can be defined."
   ]
  },
  {
   "cell_type": "code",
   "execution_count": null,
   "metadata": {},
   "outputs": [],
   "source": [
    "# surfaces\n",
    "inner_sphere_surface = openmc.Sphere(r=400)\n",
    "middle_sphere_surface = openmc.Sphere(r=500)\n",
    "outer_sphere_surface = openmc.Sphere(r=600, boundary_type='vacuum') # note the extra keyword, last surface of the geometry\n",
    "\n",
    "# regions\n",
    "blanket_region = +middle_sphere_surface & -outer_sphere_surface\n",
    "firstwall_region = +inner_sphere_surface & -middle_sphere_surface\n",
    "inner_vessel_region = -inner_sphere_surface # this is the void region\n",
    "\n",
    "# cells\n",
    "blanket_cell = openmc.Cell(region=blanket_region)\n",
    "firstwall_cell = openmc.Cell(region=firstwall_region)\n",
    "inner_vessel_cell = openmc.Cell(region=inner_vessel_region) # here as the cell is th new void cell, the other cells will be assigned materials in the next step\n",
    "\n",
    "geometry = openmc.Geometry([blanket_cell, firstwall_cell, inner_vessel_cell])\n",
    "\n",
    "color_assignment = {blanket_cell: 'blue', firstwall_cell: 'red', inner_vessel_cell:'grey'}\n",
    "\n",
    "plot = geometry.plot(basis='xz', colors=color_assignment)\n",
    "plot.figure.savefig('xz-cell.png')\n",
    "\n",
    "plot = geometry.plot(basis='xy', colors=color_assignment)\n",
    "plot.figure.savefig('xy-cell.png')\n",
    "\n",
    "plot = geometry.plot(basis='yz', colors=color_assignment)\n",
    "plot.figure.savefig('yz-cell.png')"
   ]
  },
  {
   "attachments": {},
   "cell_type": "markdown",
   "metadata": {},
   "source": [
    "Assigning materials to cells is also necessary when wanting to use the geometry for particle transport.\n",
    "\n",
    "Material creation was covered in Task 2 so these are just minimal materials to demonstrate material assignment to cells.\n",
    "\n",
    "Additionally, this plot uses the color_by='material' argument to colour the plots by materials instead of cells."
   ]
  },
  {
   "cell_type": "code",
   "execution_count": null,
   "metadata": {},
   "outputs": [],
   "source": [
    "inner_sphere_surface = openmc.Sphere(r=400)\n",
    "middle_sphere_surface = openmc.Sphere(r=500)\n",
    "outer_sphere_surface = openmc.Sphere(r=600)\n",
    "\n",
    "blanket_region = +middle_sphere_surface & -outer_sphere_surface\n",
    "firstwall_region = +inner_sphere_surface & -middle_sphere_surface\n",
    "inner_vessel_region = -inner_sphere_surface # this is the void region, it will not have a material\n",
    "\n",
    "# This makes a minimal material \n",
    "lithium_mat = openmc.Material(name='lithium')\n",
    "lithium_mat.set_density('g/cm3', 2)\n",
    "lithium_mat.add_element('Li', 1.0)\n",
    "\n",
    "# This makes another minimal material \n",
    "tungsten_mat = openmc.Material(name='tungsten')\n",
    "tungsten_mat.set_density('g/cm3', 19)\n",
    "tungsten_mat.add_element('W', 1.0)\n",
    "\n",
    "blanket_cell = openmc.Cell(region=blanket_region)\n",
    "blanket_cell.fill = lithium_mat  # this assigns a material to a cell\n",
    "\n",
    "firstwall_cell = openmc.Cell(region=firstwall_region)\n",
    "firstwall_cell.fill = tungsten_mat  # this assigns a material to a cell\n",
    "\n",
    "inner_vessel_cell = openmc.Cell(region=inner_vessel_region)\n",
    "# note there is no material assignment here as the cell a void cell\n",
    "\n",
    "geometry = openmc.Geometry([blanket_cell, firstwall_cell, inner_vessel_cell])  \n",
    "\n",
    "# note the new color scheme is uses material objects as dictionary keys and not not cell objects\n",
    "color_assignment = {lithium_mat: 'green', tungsten_mat: 'yellow'}\n",
    "\n",
    "# note the additional argument color_by, normally this defaults to 'cell'\n",
    "\n",
    "plot = geometry.plot(basis='xz', color_by='material', colors=color_assignment)\n",
    "plot.figure.savefig('xz-material.png')\n",
    "\n",
    "plot = geometry.plot(basis='xy', color_by='material',  colors=color_assignment)\n",
    "plot.figure.savefig('xy-material.png')\n",
    "\n",
    "plot = geometry.plot(basis='yz', color_by='material',  colors=color_assignment)\n",
    "plot.figure.savefig('yz-material.png')"
   ]
  },
  {
   "attachments": {},
   "cell_type": "markdown",
   "metadata": {},
   "source": [
    "**Learning Outcomes for Part 1:**\n",
    "\n",
    "- Construction of simple Constructive Solid Geometry (CSG) geometry.\n",
    "- Visualisation of models using 2D slices.\n",
    "- Assigining materials to cells.\n",
    "- Defining the complete geometry including void cells.\n",
    "- Defining the edge of the model with the boundary keyword.\n",
    "- Coloring models by cell or by material.\n",
    "\n",
    "Additonal notes.\n",
    "\n",
    "The geometry.plot method has lots of useful arguments that can be passed in.\n",
    "\n",
    "Try adding ```outline=True``` to the geometry.plot() method and spot the difference.\n",
    "\n",
    "Take a look at the documentation for more information\n",
    "\n",
    "https://docs.openmc.org/en/latest/pythonapi/generated/openmc.Geometry.html#openmc.Geometry.plot"
   ]
  },
  {
   "attachments": {},
   "cell_type": "markdown",
   "metadata": {},
   "source": []
  }
 ],
 "metadata": {
  "kernelspec": {
   "display_name": "Python 3 (ipykernel)",
   "language": "python",
   "name": "python3"
  },
  "language_info": {
   "codemirror_mode": {
    "name": "ipython",
    "version": 3
   },
   "file_extension": ".py",
   "mimetype": "text/x-python",
   "name": "python",
   "nbconvert_exporter": "python",
   "pygments_lexer": "ipython3",
   "version": "3.10.12"
  }
 },
 "nbformat": 4,
 "nbformat_minor": 4
}
