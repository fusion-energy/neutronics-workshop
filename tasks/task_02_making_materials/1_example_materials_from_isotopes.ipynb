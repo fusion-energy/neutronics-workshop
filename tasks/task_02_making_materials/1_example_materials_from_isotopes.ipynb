{
 "cells": [
  {
   "cell_type": "markdown",
   "metadata": {},
   "source": [
    "# Part 1 - Making materials from isotopes\n",
    "\n",
    "To carry out a neutronics simulation material definitions are needed.\n",
    "\n",
    "In OpenMC, materials can be defined using isotope fractions and densities. I.e. each isotope in the material is defined along with the overall material density.\n",
    "\n",
    "This python notebook allows users to create different materials from isotopes using OpenMC. "
   ]
  },
  {
   "cell_type": "code",
   "execution_count": null,
   "metadata": {},
   "outputs": [],
   "source": [
    "from IPython.display import IFrame\n",
    "IFrame(src=\"https://www.youtube.com/embed/-NGnY-1TWCA\", width=560, height=340)"
   ]
  },
  {
   "cell_type": "markdown",
   "metadata": {},
   "source": [
    "First import OpenMC and configure the nuclear data path"
   ]
  },
  {
   "cell_type": "code",
   "execution_count": null,
   "metadata": {},
   "outputs": [],
   "source": [
    "import openmc\n",
    "\n",
    "# Setting the cross section path to the correct location in the docker image.\n",
    "# If you are running this outside the docker image you will have to change this path to your local cross section path.\n",
    "openmc.config['cross_sections'] = '/nuclear_data/cross_sections.xml'"
   ]
  },
  {
   "cell_type": "markdown",
   "metadata": {},
   "source": [
    "The following code block is a simple example of creating a material (water H2O) from isotopes.\n",
    "\n",
    "The natural abundances of each isotope in the material have been found using the NIST website: https://physics.nist.gov/cgi-bin/Compositions/stand_alone.pl?ele="
   ]
  },
  {
   "cell_type": "code",
   "execution_count": null,
   "metadata": {},
   "outputs": [],
   "source": [
    "import openmc\n",
    "\n",
    "water_mat = openmc.Material()\n",
    "\n",
    "# add each isotope with their relative abundance to material object\n",
    "# note that H20 requires hydrogen to be multiplied by 2\n",
    "water_mat.add_nuclide('H1', 2.*0.999885, percent_type='ao')\n",
    "water_mat.add_nuclide('H2', 2.*0.000115, percent_type='ao')\n",
    "water_mat.add_nuclide('O16', 0.99757, percent_type='ao')\n",
    "water_mat.add_nuclide('O17', 0.00038, percent_type='ao')\n",
    "water_mat.add_nuclide('O18', 0.00205, percent_type='ao')\n",
    "\n",
    "# set material density\n",
    "water_mat.set_density('g/cm3', 0.99821)\n",
    "\n",
    "water_mat"
   ]
  },
  {
   "cell_type": "markdown",
   "metadata": {},
   "source": [
    "Looking up natural abundances on a website can take time and is error prone - there is a better way.\n",
    "\n",
    "Instead, OpenMC can find the natural abundance of isotopes from internal data using the [NATURAL_ABUNDANCE](https://github.com/openmc-dev/openmc/blob/develop/openmc/data/data.py) dictionary in OpenMC.\n",
    "\n",
    "The next code block is an example of creating a material (water H2O) from isotopes but this time using the inbuilt NATURAL_ABUMDANCE dictionary to find the natural abundances of each isotope."
   ]
  },
  {
   "cell_type": "code",
   "execution_count": null,
   "metadata": {},
   "outputs": [],
   "source": [
    "from openmc.data import *  # this imports the NATURAL_ABUNDANCE dictionary\n",
    "\n",
    "water_mat = openmc.Material()\n",
    "\n",
    "# add each isotope with their relative abundance to material object\n",
    "# note that H20 requires hydrogen to be multiplied by 2\n",
    "water_mat.add_nuclide('H1', 2.0*NATURAL_ABUNDANCE['H1'], percent_type='ao')\n",
    "water_mat.add_nuclide('H2', 2.0*NATURAL_ABUNDANCE['H2'], percent_type='ao')\n",
    "water_mat.add_nuclide('O16', NATURAL_ABUNDANCE['O16'], percent_type='ao')\n",
    "water_mat.add_nuclide('O17', NATURAL_ABUNDANCE['O17'], percent_type='ao')\n",
    "water_mat.add_nuclide('O18', NATURAL_ABUNDANCE['O18'], percent_type='ao')\n",
    "\n",
    "# set material density\n",
    "water_mat.set_density('g/cm3', 0.99821)\n",
    "\n",
    "water_mat"
   ]
  },
  {
   "cell_type": "markdown",
   "metadata": {},
   "source": [
    "One of the reasons that we might want to define materials from isotopes is so that we can specify the enrichment of particular isotopes.\n",
    "\n",
    "The following example makes Li4SiO4 with an enriched Li6 content.\n",
    "\n",
    "This is the typical lithium ceramic and enrichment level found in the HCPB design."
   ]
  },
  {
   "cell_type": "code",
   "execution_count": null,
   "metadata": {},
   "outputs": [],
   "source": [
    "# Making enriched Li4SiO4 from isotopes\n",
    "\n",
    "enrichment_fraction = 0.6\n",
    "\n",
    "enriched_Li4SiO4_isotope = openmc.Material()\n",
    "enriched_Li4SiO4_isotope.add_nuclide('Li6', 4.0*enrichment_fraction, percent_type='ao')\n",
    "enriched_Li4SiO4_isotope.add_nuclide('Li7', 4.0*(1-enrichment_fraction), percent_type='ao')\n",
    "enriched_Li4SiO4_isotope.add_nuclide('Si28', NATURAL_ABUNDANCE['Si28'], percent_type='ao')\n",
    "enriched_Li4SiO4_isotope.add_nuclide('Si29', NATURAL_ABUNDANCE['Si29'], percent_type='ao')\n",
    "enriched_Li4SiO4_isotope.add_nuclide('Si30', NATURAL_ABUNDANCE['Si30'], percent_type='ao')\n",
    "enriched_Li4SiO4_isotope.add_nuclide('O16', 4.0*NATURAL_ABUNDANCE['O16'], percent_type='ao')\n",
    "enriched_Li4SiO4_isotope.add_nuclide('O17', 4.0*NATURAL_ABUNDANCE['O17'], percent_type='ao')\n",
    "enriched_Li4SiO4_isotope.add_nuclide('O18', 4.0*NATURAL_ABUNDANCE['O18'], percent_type='ao')\n",
    "enriched_Li4SiO4_isotope.set_density('g/cm3', 2.32)  # this would be lower than 2.32 but this would need calculating\n",
    "\n",
    "enriched_Li4SiO4_isotope"
   ]
  },
  {
   "cell_type": "markdown",
   "metadata": {},
   "source": [
    "Making more detailed materials such as a low activation steel Eurofer using this method would require over 50 isotopes to be specified. This can become quite a lot of coding for the user.\n",
    "\n",
    "Luckily, this is just the start of making materials - there are more methods available which are described in the following notebooks."
   ]
  },
  {
   "cell_type": "markdown",
   "metadata": {},
   "source": [
    "**Learning Outcomes from Part 1:**\n",
    "- Materials can be made in OpenMC using isotope fractions and densities.\n",
    "- Making materials from isotopes allows the enrichment of particular isotopes to be specified."
   ]
  }
 ],
 "metadata": {
  "kernelspec": {
   "display_name": "Python 3 (ipykernel)",
   "language": "python",
   "name": "python3"
  },
  "language_info": {
   "codemirror_mode": {
    "name": "ipython",
    "version": 3
   },
   "file_extension": ".py",
   "mimetype": "text/x-python",
   "name": "python",
   "nbconvert_exporter": "python",
   "pygments_lexer": "ipython3",
   "version": "3.10.12"
  }
 },
 "nbformat": 4,
 "nbformat_minor": 4
}
