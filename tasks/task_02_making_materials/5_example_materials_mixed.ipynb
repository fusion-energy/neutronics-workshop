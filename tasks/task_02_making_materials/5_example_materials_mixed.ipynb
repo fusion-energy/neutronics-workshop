{
 "cells": [
  {
   "cell_type": "markdown",
   "metadata": {},
   "source": [
    "# Part 5 - Mixing materials\n",
    "\n",
    "To simplify a neutronics model it is common to combine regions and their materials. For example, cooling channels are often combined with the structural material which reduces the complexity of the model and makes the simulation faster. \n",
    "\n",
    "There are several different ways of making mixed materials based on the methods we have seen in Parts 1 to 4.\n",
    "\n",
    "| Material type | Combinations | Mixing Method |\n",
    "|:-:|:-:|:-:|\n",
    "| code block 1 | openmc.Material() + openmc.Material() | openmc.Material.mix_materials() |\n",
    "| code block 2 | openmc.Material() + nmm.Material() | openmc.Material.mix_materials() |\n",
    "| code block 3 | nmm.Material() + nmm.Material() | openmc.Material.mix_materials() |\n",
    "| code block 4 | openmc.Material() + openmc.Material() | nmm.MultiMaterial() |\n",
    "| code block 5 | openmc.Material() + nmm.Material() | nmm.MultiMaterial() |\n",
    "| code block 6 | nmm.Material() + nmm.Material() | nmm.MultiMaterial() |\n",
    "\n",
    "Personally I use a combination of these depending on the task. The benefit of using the neutronics_material_maker is that we can use a standard material definition and density is calculated automatically (as a function of pressure, temperture and enrichment), but this is not always required.\n",
    "\n",
    "This python notebook allows users to make mixed materials using OpenMC and the Neutronics Material Maker."
   ]
  },
  {
   "cell_type": "code",
   "execution_count": null,
   "metadata": {},
   "outputs": [],
   "source": [
    "# import the packages needed for the task\n",
    "import openmc\n",
    "import neutronics_material_maker as nmm"
   ]
  },
  {
   "cell_type": "markdown",
   "metadata": {},
   "source": [
    "## Code block 1\n",
    "\n",
    "This first code block is an example of making a mixed material using the native OpenMC mix_materials method with two OpenMC materials.\n",
    "\n",
    "| Material type | Combinations | Mixing Method |\n",
    "|:-:|:-:|:-:|\n",
    "| code block 1 | openmc.Material() + openmc.Material() | openmc.Material.mix_materials() |"
   ]
  },
  {
   "cell_type": "code",
   "execution_count": null,
   "metadata": {},
   "outputs": [],
   "source": [
    "steel_mat = openmc.Material()\n",
    "steel_mat.add_element('Fe', 0.975)\n",
    "steel_mat.add_element('C', 0.025)\n",
    "steel_mat.set_density('g/cm3', 7.7)\n",
    "\n",
    "h20_mat = openmc.Material()\n",
    "h20_mat.add_elements_from_formula('H2O')\n",
    "h20_mat.set_density('g/cm3', 1.)\n",
    "\n",
    "mixed_mat = openmc.Material.mix_materials(\n",
    "    name='mixed_material', # optional name of homogeneous material\n",
    "    materials=[\n",
    "        steel_mat,\n",
    "        h20_mat,\n",
    "        ],\n",
    "    fracs=[0.7, 0.2], # list of combination fractions for each material\n",
    "    percent_type='vo') # combination fraction type is by volume\n",
    "\n",
    "mixed_mat"
   ]
  },
  {
   "cell_type": "markdown",
   "metadata": {},
   "source": [
    "## Code block 2\n",
    "\n",
    "This code block is an example of making a mixed material using the native OpenMC mix_materials method with an OpenMC material and a neutronics_material_maker material.\n",
    "\n",
    "| Material type | Combinations | Mixing Method |\n",
    "|:-:|:-:|:-:|\n",
    "| code block 2 | openmc.Material() + nmm.Material() | openmc.Material.mix_materials() |"
   ]
  },
  {
   "cell_type": "code",
   "execution_count": null,
   "metadata": {},
   "outputs": [],
   "source": [
    "steel_mat = openmc.Material()\n",
    "steel_mat.add_element('Fe', 0.975)\n",
    "steel_mat.add_element('C', 0.025)\n",
    "steel_mat.set_density('g/cm3', 7.7)\n",
    "\n",
    "h20_mat = nmm.Material.from_library(\n",
    "    'H2O',\n",
    "    temperature=500,\n",
    "    pressure=80000\n",
    ").openmc_material\n",
    "\n",
    "mixed_mat = openmc.Material.mix_materials(\n",
    "    name='mixed_material',      # name of homogeneous material\n",
    "    materials=[                 # list of neutronics materials\n",
    "        steel_mat,\n",
    "        h20_mat],\n",
    "    fracs=[0.7, 0.3],           # list of combination fractions for each neutronics material\n",
    "    percent_type='vo')          # combination fraction type\n",
    "\n",
    "mixed_mat"
   ]
  },
  {
   "cell_type": "markdown",
   "metadata": {},
   "source": [
    "## Code block 3\n",
    "\n",
    "This next code block is an example of making a mixed material using the native OpenMC mix_materials method with two neutronics_material_maker materials.\n",
    "\n",
    "| Material type | Combinations | Mixing Method |\n",
    "|:-:|:-:|:-:|\n",
    "| code block 3 | nmm.Material() + nmm.Material() | openmc.Material.mix_materials() |"
   ]
  },
  {
   "cell_type": "code",
   "execution_count": null,
   "metadata": {},
   "outputs": [],
   "source": [
    "steel_mat = nmm.Material.from_library('a36_steel').openmc_material\n",
    "\n",
    "h20_mat = nmm.Material.from_library(\n",
    "    'H2O',\n",
    "    temperature=500,\n",
    "    pressure=80000\n",
    ").openmc_material\n",
    "\n",
    "mixed_mat = openmc.Material.mix_materials(\n",
    "    name='mixed_material',      # name of homogeneous material\n",
    "    materials=[                 # list of neutronics materials\n",
    "        steel_mat,\n",
    "        h20_mat],\n",
    "    fracs=[0.7, 0.3],           # list of combination fractions for each neutronics material\n",
    "    percent_type='vo')          # combination fraction type\n",
    "\n",
    "mixed_mat"
   ]
  },
  {
   "cell_type": "markdown",
   "metadata": {},
   "source": [
    "## Code block 4\n",
    "\n",
    "This code block is an example of making a mixed material using the neutronics_material_maker MultiMaterial class with two OpenMC materials.\n",
    "\n",
    "| Material type | Combinations | Mixing Method |\n",
    "|:-:|:-:|:-:|\n",
    "| code block 4 | openmc.Material() + openmc.Material() | nmm.MultiMaterial() |"
   ]
  },
  {
   "cell_type": "code",
   "execution_count": null,
   "metadata": {},
   "outputs": [],
   "source": [
    "steel_mat = openmc.Material()\n",
    "steel_mat.add_element('Fe', 0.975)\n",
    "steel_mat.add_element('C', 0.025)\n",
    "steel_mat.set_density('g/cm3', 7.7)\n",
    "\n",
    "h20_mat = openmc.Material()\n",
    "h20_mat.add_elements_from_formula('H2O')\n",
    "h20_mat.set_density('g/cm3', 1.)\n",
    "\n",
    "mixed_mat = nmm.Material.from_mixture(\n",
    "    name='mixed_material',  # name of homogeneous material\n",
    "    materials=[\n",
    "        steel_mat,\n",
    "        h20_mat\n",
    "    ],\n",
    "    fracs=[0.7, 0.3],           # list of combination fractions for each neutronics material\n",
    "    percent_type='vo')          # combination fraction type\n",
    "\n",
    "mixed_mat.openmc_material   # returns the OpenMC-compatible version of the nmm.MultiMaterial"
   ]
  },
  {
   "cell_type": "markdown",
   "metadata": {},
   "source": [
    "## Code block 5\n",
    "\n",
    "The next code block is an example of making a mixed material using the neutronics_material_maker MultiMaterial class with an OpenMC and a neutronics_material_maker material.\n",
    "\n",
    "| Material type | Combinations | Mixing Method |\n",
    "|:-:|:-:|:-:|\n",
    "| code block 5 | openmc.Material() + nmm.Material() | nmm.MultiMaterial() |"
   ]
  },
  {
   "cell_type": "code",
   "execution_count": null,
   "metadata": {},
   "outputs": [],
   "source": [
    "steel_mat = openmc.Material()\n",
    "steel_mat.add_element('Fe', 0.975)\n",
    "steel_mat.add_element('C', 0.025)\n",
    "steel_mat.set_density('g/cm3', 7.7)\n",
    "\n",
    "h20_material = nmm.Material.from_library(\n",
    "    'H2O',\n",
    "    temperature=700,\n",
    "    pressure=80000\n",
    ").openmc_material\n",
    "\n",
    "mixed_mat = nmm.Material.from_mixture(\n",
    "    name='mixed_material',  # name of homogeneous material\n",
    "    materials=[\n",
    "        steel_mat,\n",
    "        h20_material\n",
    "    ],\n",
    "    fracs=[0.7, 0.3],           # list of combination fractions for each neutronics material\n",
    "    percent_type='vo')          # combination fraction type\n",
    "\n",
    "mixed_mat.openmc_material   # returns the OpenMC-compatible version of the nmm.MultiMaterial"
   ]
  },
  {
   "cell_type": "markdown",
   "metadata": {},
   "source": [
    "## Code block 6\n",
    "\n",
    "Finally, this last code block is an example of making a mixed material using the neutronics_material_maker MultiMaterial class with two neutronics_material_maker materials.\n",
    "\n",
    "| Material type | Combinations | Mixing Method |\n",
    "|:-:|:-:|:-:|\n",
    "| code block 6 | nmm.Material() + nmm.Material() | nmm.MultiMaterial() |"
   ]
  },
  {
   "cell_type": "code",
   "execution_count": null,
   "metadata": {},
   "outputs": [],
   "source": [
    "steel_mat = nmm.Material.from_library('a36_steel').openmc_material\n",
    "\n",
    "h20_material = nmm.Material.from_library(\n",
    "    name='H2O',\n",
    "    temperature=500,\n",
    "    pressure=80000\n",
    ").openmc_material\n",
    "\n",
    "mixed_mat = nmm.Material.from_mixture(\n",
    "    name='mixed_material',  # name of homogeneous material\n",
    "    materials=[\n",
    "        steel_mat,\n",
    "        h20_material\n",
    "    ],\n",
    "    fracs=[0.7, 0.3],           # list of combination fractions for each neutronics material\n",
    "    percent_type='vo')          # combination fraction type\n",
    "\n",
    "mixed_mat.openmc_material"
   ]
  },
  {
   "cell_type": "markdown",
   "metadata": {},
   "source": [
    "**Learning Outcomes for Part 5:**\n",
    "\n",
    "- Mixed materials can be created using in-built OpenMC features or the neutronics material maker.\n",
    "- The mix fraction of each material will have an impact on the overall properties of the mixed material."
   ]
  }
 ],
 "metadata": {
  "kernelspec": {
   "display_name": "Python 3",
   "language": "python",
   "name": "python3"
  },
  "language_info": {
   "codemirror_mode": {
    "name": "ipython",
    "version": 3
   },
   "file_extension": ".py",
   "mimetype": "text/x-python",
   "name": "python",
   "nbconvert_exporter": "python",
   "pygments_lexer": "ipython3",
   "version": "3.8.3"
  }
 },
 "nbformat": 4,
 "nbformat_minor": 4
}
